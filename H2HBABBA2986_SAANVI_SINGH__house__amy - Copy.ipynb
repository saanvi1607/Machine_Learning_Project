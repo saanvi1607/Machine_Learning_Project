{
  "nbformat": 4,
  "nbformat_minor": 0,
  "metadata": {
    "colab": {
      "name": "H2HBABBA2986_SAANVI_SINGH__house_AMY__.ipynb",
      "provenance": []
    },
    "kernelspec": {
      "name": "python3",
      "display_name": "Python 3"
    },
    "language_info": {
      "name": "python"
    }
  },
  "cells": [
    {
      "cell_type": "markdown",
      "metadata": {
        "id": "QzmooXU0CTS-"
      },
      "source": [
        "**Import all the necessary libraries**"
      ]
    },
    {
      "cell_type": "code",
      "metadata": {
        "id": "Vl8yIYAqfsP3"
      },
      "source": [
        "import pandas as pd\n",
        "import numpy as np\n",
        "import  matplotlib.pyplot as plt\n",
        "import seaborn as sns\n",
        "import sklearn\n",
        "\n",
        "\n",
        "\n",
        "%matplotlib inline\n",
        "import warnings\n",
        "warnings.filterwarnings(\"ignore\")"
      ],
      "execution_count": 1,
      "outputs": []
    },
    {
      "cell_type": "markdown",
      "metadata": {
        "id": "k_42qOtECoro"
      },
      "source": [
        "**load the dataset**"
      ]
    },
    {
      "cell_type": "code",
      "metadata": {
        "colab": {
          "resources": {
            "http://localhost:8080/nbextensions/google.colab/files.js": {
              "data": "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",
              "ok": true,
              "headers": [
                [
                  "content-type",
                  "application/javascript"
                ]
              ],
              "status": 200,
              "status_text": ""
            }
          },
          "base_uri": "https://localhost:8080/",
          "height": 72
        },
        "id": "822ehtnggFHh",
        "outputId": "93488e00-4f83-42c9-d6cc-cab332eb6d0c"
      },
      "source": [
        "from google.colab import files\n",
        "uploaded=files.upload()"
      ],
      "execution_count": 2,
      "outputs": [
        {
          "output_type": "display_data",
          "data": {
            "text/html": [
              "\n",
              "     <input type=\"file\" id=\"files-bdae0ecb-3d9e-4c24-94f2-c704a8845e16\" name=\"files[]\" multiple disabled\n",
              "        style=\"border:none\" />\n",
              "     <output id=\"result-bdae0ecb-3d9e-4c24-94f2-c704a8845e16\">\n",
              "      Upload widget is only available when the cell has been executed in the\n",
              "      current browser session. Please rerun this cell to enable.\n",
              "      </output>\n",
              "      <script src=\"/nbextensions/google.colab/files.js\"></script> "
            ],
            "text/plain": [
              "<IPython.core.display.HTML object>"
            ]
          },
          "metadata": {
            "tags": []
          }
        },
        {
          "output_type": "stream",
          "text": [
            "Saving H2HBABBA2986.csv to H2HBABBA2986.csv\n"
          ],
          "name": "stdout"
        }
      ]
    },
    {
      "cell_type": "markdown",
      "metadata": {
        "id": "AQ6rlmdVCtrT"
      },
      "source": [
        "**Read the csv file**"
      ]
    },
    {
      "cell_type": "code",
      "metadata": {
        "id": "wOlSnTWOg1RP"
      },
      "source": [
        "df = pd.read_csv('H2HBABBA2986.csv')"
      ],
      "execution_count": 3,
      "outputs": []
    },
    {
      "cell_type": "markdown",
      "metadata": {
        "id": "aE60NUJICxU1"
      },
      "source": [
        "**show the dataset**"
      ]
    },
    {
      "cell_type": "code",
      "metadata": {
        "colab": {
          "base_uri": "https://localhost:8080/",
          "height": 609
        },
        "id": "rTU7rqawg_D0",
        "outputId": "c85324e5-d820-49ec-9b13-b126c225d496"
      },
      "source": [
        "df"
      ],
      "execution_count": 4,
      "outputs": [
        {
          "output_type": "execute_result",
          "data": {
            "text/html": [
              "<div>\n",
              "<style scoped>\n",
              "    .dataframe tbody tr th:only-of-type {\n",
              "        vertical-align: middle;\n",
              "    }\n",
              "\n",
              "    .dataframe tbody tr th {\n",
              "        vertical-align: top;\n",
              "    }\n",
              "\n",
              "    .dataframe thead th {\n",
              "        text-align: right;\n",
              "    }\n",
              "</style>\n",
              "<table border=\"1\" class=\"dataframe\">\n",
              "  <thead>\n",
              "    <tr style=\"text-align: right;\">\n",
              "      <th></th>\n",
              "      <th>business_code</th>\n",
              "      <th>cust_number</th>\n",
              "      <th>name_customer</th>\n",
              "      <th>clear_date</th>\n",
              "      <th>buisness_year</th>\n",
              "      <th>doc_id</th>\n",
              "      <th>posting_date</th>\n",
              "      <th>document_create_date</th>\n",
              "      <th>document_create_date.1</th>\n",
              "      <th>due_in_date</th>\n",
              "      <th>invoice_currency</th>\n",
              "      <th>document type</th>\n",
              "      <th>posting_id</th>\n",
              "      <th>area_business</th>\n",
              "      <th>total_open_amount</th>\n",
              "      <th>baseline_create_date</th>\n",
              "      <th>cust_payment_terms</th>\n",
              "      <th>invoice_id</th>\n",
              "      <th>isOpen</th>\n",
              "    </tr>\n",
              "  </thead>\n",
              "  <tbody>\n",
              "    <tr>\n",
              "      <th>0</th>\n",
              "      <td>U001</td>\n",
              "      <td>200772670</td>\n",
              "      <td>ASSOCIAT trust</td>\n",
              "      <td>NaN</td>\n",
              "      <td>2020.0</td>\n",
              "      <td>1.930700e+09</td>\n",
              "      <td>2020-03-25</td>\n",
              "      <td>20200325</td>\n",
              "      <td>20200325</td>\n",
              "      <td>20200409.0</td>\n",
              "      <td>USD</td>\n",
              "      <td>RV</td>\n",
              "      <td>1.0</td>\n",
              "      <td>NaN</td>\n",
              "      <td>19508.61</td>\n",
              "      <td>20200325.0</td>\n",
              "      <td>NAU5</td>\n",
              "      <td>1.930700e+09</td>\n",
              "      <td>1</td>\n",
              "    </tr>\n",
              "    <tr>\n",
              "      <th>1</th>\n",
              "      <td>CA02</td>\n",
              "      <td>0140105847</td>\n",
              "      <td>GORDON F associates</td>\n",
              "      <td>2019-06-24 00:00:00</td>\n",
              "      <td>2019.0</td>\n",
              "      <td>2.960552e+09</td>\n",
              "      <td>2019-06-08</td>\n",
              "      <td>20190608</td>\n",
              "      <td>20190608</td>\n",
              "      <td>20190618.0</td>\n",
              "      <td>CAD</td>\n",
              "      <td>RV</td>\n",
              "      <td>1.0</td>\n",
              "      <td>NaN</td>\n",
              "      <td>75259.66</td>\n",
              "      <td>20190608.0</td>\n",
              "      <td>CA10</td>\n",
              "      <td>2.960552e+09</td>\n",
              "      <td>0</td>\n",
              "    </tr>\n",
              "    <tr>\n",
              "      <th>2</th>\n",
              "      <td>U001</td>\n",
              "      <td>0200769623</td>\n",
              "      <td>WAL-MAR co</td>\n",
              "      <td>2019-08-06 00:00:00</td>\n",
              "      <td>2019.0</td>\n",
              "      <td>1.929659e+09</td>\n",
              "      <td>2019-07-26</td>\n",
              "      <td>20190725</td>\n",
              "      <td>20190726</td>\n",
              "      <td>20190810.0</td>\n",
              "      <td>USD</td>\n",
              "      <td>RV</td>\n",
              "      <td>1.0</td>\n",
              "      <td>NaN</td>\n",
              "      <td>50906.31</td>\n",
              "      <td>20190726.0</td>\n",
              "      <td>NAH4</td>\n",
              "      <td>1.929659e+09</td>\n",
              "      <td>0</td>\n",
              "    </tr>\n",
              "    <tr>\n",
              "      <th>3</th>\n",
              "      <td>U001</td>\n",
              "      <td>0200508557</td>\n",
              "      <td>FOODL co</td>\n",
              "      <td>2019-06-10 00:00:00</td>\n",
              "      <td>2019.0</td>\n",
              "      <td>1.929337e+09</td>\n",
              "      <td>2019-05-24</td>\n",
              "      <td>20190517</td>\n",
              "      <td>20190524</td>\n",
              "      <td>20190608.0</td>\n",
              "      <td>USD</td>\n",
              "      <td>RV</td>\n",
              "      <td>1.0</td>\n",
              "      <td>NaN</td>\n",
              "      <td>2273.37</td>\n",
              "      <td>20190524.0</td>\n",
              "      <td>NAA8</td>\n",
              "      <td>1.929337e+09</td>\n",
              "      <td>0</td>\n",
              "    </tr>\n",
              "    <tr>\n",
              "      <th>4</th>\n",
              "      <td>U001</td>\n",
              "      <td>0200769623</td>\n",
              "      <td>WAL-MAR associates</td>\n",
              "      <td>2019-02-04 00:00:00</td>\n",
              "      <td>2019.0</td>\n",
              "      <td>1.928652e+09</td>\n",
              "      <td>2019-01-23</td>\n",
              "      <td>20190121</td>\n",
              "      <td>20190123</td>\n",
              "      <td>20190207.0</td>\n",
              "      <td>USD</td>\n",
              "      <td>RV</td>\n",
              "      <td>1.0</td>\n",
              "      <td>NaN</td>\n",
              "      <td>2999.92</td>\n",
              "      <td>20190123.0</td>\n",
              "      <td>NAH4</td>\n",
              "      <td>1.928652e+09</td>\n",
              "      <td>0</td>\n",
              "    </tr>\n",
              "    <tr>\n",
              "      <th>...</th>\n",
              "      <td>...</td>\n",
              "      <td>...</td>\n",
              "      <td>...</td>\n",
              "      <td>...</td>\n",
              "      <td>...</td>\n",
              "      <td>...</td>\n",
              "      <td>...</td>\n",
              "      <td>...</td>\n",
              "      <td>...</td>\n",
              "      <td>...</td>\n",
              "      <td>...</td>\n",
              "      <td>...</td>\n",
              "      <td>...</td>\n",
              "      <td>...</td>\n",
              "      <td>...</td>\n",
              "      <td>...</td>\n",
              "      <td>...</td>\n",
              "      <td>...</td>\n",
              "      <td>...</td>\n",
              "    </tr>\n",
              "    <tr>\n",
              "      <th>49995</th>\n",
              "      <td>U001</td>\n",
              "      <td>0200875006</td>\n",
              "      <td>KROGER co</td>\n",
              "      <td>2019-05-03 00:00:00</td>\n",
              "      <td>2019.0</td>\n",
              "      <td>1.929176e+09</td>\n",
              "      <td>2019-04-18</td>\n",
              "      <td>20190419</td>\n",
              "      <td>20190418</td>\n",
              "      <td>20190503.0</td>\n",
              "      <td>USD</td>\n",
              "      <td>RV</td>\n",
              "      <td>1.0</td>\n",
              "      <td>NaN</td>\n",
              "      <td>104935.25</td>\n",
              "      <td>20190418.0</td>\n",
              "      <td>NAA8</td>\n",
              "      <td>1.929176e+09</td>\n",
              "      <td>0</td>\n",
              "    </tr>\n",
              "    <tr>\n",
              "      <th>49996</th>\n",
              "      <td>U001</td>\n",
              "      <td>0200416837</td>\n",
              "      <td>DEC llc</td>\n",
              "      <td>NaN</td>\n",
              "      <td>2020.0</td>\n",
              "      <td>1.930813e+09</td>\n",
              "      <td>2020-04-22</td>\n",
              "      <td>20200422</td>\n",
              "      <td>20200422</td>\n",
              "      <td>20200509.0</td>\n",
              "      <td>USD</td>\n",
              "      <td>RV</td>\n",
              "      <td>1.0</td>\n",
              "      <td>NaN</td>\n",
              "      <td>462.24</td>\n",
              "      <td>20200416.0</td>\n",
              "      <td>NAM4</td>\n",
              "      <td>1.930813e+09</td>\n",
              "      <td>1</td>\n",
              "    </tr>\n",
              "    <tr>\n",
              "      <th>49997</th>\n",
              "      <td>U001</td>\n",
              "      <td>0200769623</td>\n",
              "      <td>WAL-MAR llc</td>\n",
              "      <td>2019-04-22 00:00:00</td>\n",
              "      <td>2019.0</td>\n",
              "      <td>1.929116e+09</td>\n",
              "      <td>2019-04-11</td>\n",
              "      <td>20190410</td>\n",
              "      <td>20190411</td>\n",
              "      <td>20190426.0</td>\n",
              "      <td>USD</td>\n",
              "      <td>RV</td>\n",
              "      <td>1.0</td>\n",
              "      <td>NaN</td>\n",
              "      <td>51229.90</td>\n",
              "      <td>20190411.0</td>\n",
              "      <td>NAH4</td>\n",
              "      <td>1.929116e+09</td>\n",
              "      <td>0</td>\n",
              "    </tr>\n",
              "    <tr>\n",
              "      <th>49998</th>\n",
              "      <td>U001</td>\n",
              "      <td>0200750051</td>\n",
              "      <td>ALBER corporation</td>\n",
              "      <td>2019-03-22 00:00:00</td>\n",
              "      <td>2019.0</td>\n",
              "      <td>1.928924e+09</td>\n",
              "      <td>2019-03-07</td>\n",
              "      <td>20190307</td>\n",
              "      <td>20190307</td>\n",
              "      <td>20190322.0</td>\n",
              "      <td>USD</td>\n",
              "      <td>RV</td>\n",
              "      <td>1.0</td>\n",
              "      <td>NaN</td>\n",
              "      <td>109197.74</td>\n",
              "      <td>20190307.0</td>\n",
              "      <td>NAA8</td>\n",
              "      <td>1.928924e+09</td>\n",
              "      <td>0</td>\n",
              "    </tr>\n",
              "    <tr>\n",
              "      <th>49999</th>\n",
              "      <td>U001</td>\n",
              "      <td>0200353024</td>\n",
              "      <td>DECA foundation</td>\n",
              "      <td>2020-02-03 00:00:00</td>\n",
              "      <td>2020.0</td>\n",
              "      <td>1.930434e+09</td>\n",
              "      <td>2020-01-24</td>\n",
              "      <td>20200124</td>\n",
              "      <td>20200124</td>\n",
              "      <td>20200208.0</td>\n",
              "      <td>USD</td>\n",
              "      <td>RV</td>\n",
              "      <td>1.0</td>\n",
              "      <td>NaN</td>\n",
              "      <td>858.24</td>\n",
              "      <td>20200116.0</td>\n",
              "      <td>NAM4</td>\n",
              "      <td>1.930434e+09</td>\n",
              "      <td>0</td>\n",
              "    </tr>\n",
              "  </tbody>\n",
              "</table>\n",
              "<p>50000 rows × 19 columns</p>\n",
              "</div>"
            ],
            "text/plain": [
              "      business_code cust_number  ...    invoice_id isOpen\n",
              "0              U001   200772670  ...  1.930700e+09      1\n",
              "1              CA02  0140105847  ...  2.960552e+09      0\n",
              "2              U001  0200769623  ...  1.929659e+09      0\n",
              "3              U001  0200508557  ...  1.929337e+09      0\n",
              "4              U001  0200769623  ...  1.928652e+09      0\n",
              "...             ...         ...  ...           ...    ...\n",
              "49995          U001  0200875006  ...  1.929176e+09      0\n",
              "49996          U001  0200416837  ...  1.930813e+09      1\n",
              "49997          U001  0200769623  ...  1.929116e+09      0\n",
              "49998          U001  0200750051  ...  1.928924e+09      0\n",
              "49999          U001  0200353024  ...  1.930434e+09      0\n",
              "\n",
              "[50000 rows x 19 columns]"
            ]
          },
          "metadata": {
            "tags": []
          },
          "execution_count": 4
        }
      ]
    },
    {
      "cell_type": "markdown",
      "metadata": {
        "id": "TG8XREkOC5nV"
      },
      "source": [
        "**df. isna(). sum() returns the number of missing values in each column.**"
      ]
    },
    {
      "cell_type": "code",
      "metadata": {
        "colab": {
          "base_uri": "https://localhost:8080/"
        },
        "id": "4zA0gq6ghCGN",
        "outputId": "cd5d78fa-b0de-43a4-aaf3-c4d61feda378"
      },
      "source": [
        "df.isna().sum()"
      ],
      "execution_count": 5,
      "outputs": [
        {
          "output_type": "execute_result",
          "data": {
            "text/plain": [
              "business_code                 0\n",
              "cust_number                   0\n",
              "name_customer                 0\n",
              "clear_date                10000\n",
              "buisness_year                 0\n",
              "doc_id                        0\n",
              "posting_date                  0\n",
              "document_create_date          0\n",
              "document_create_date.1        0\n",
              "due_in_date                   0\n",
              "invoice_currency              0\n",
              "document type                 0\n",
              "posting_id                    0\n",
              "area_business             50000\n",
              "total_open_amount             0\n",
              "baseline_create_date          0\n",
              "cust_payment_terms            0\n",
              "invoice_id                    8\n",
              "isOpen                        0\n",
              "dtype: int64"
            ]
          },
          "metadata": {
            "tags": []
          },
          "execution_count": 5
        }
      ]
    },
    {
      "cell_type": "markdown",
      "metadata": {
        "id": "o6_dhkTvDabN"
      },
      "source": [
        "**This dataset contains 50000 rows and 19 columns**"
      ]
    },
    {
      "cell_type": "code",
      "metadata": {
        "colab": {
          "base_uri": "https://localhost:8080/"
        },
        "id": "rtOwdziCIm2k",
        "outputId": "25a75971-816b-402e-eadf-68e345955bc1"
      },
      "source": [
        "df.shape\n"
      ],
      "execution_count": 6,
      "outputs": [
        {
          "output_type": "execute_result",
          "data": {
            "text/plain": [
              "(50000, 19)"
            ]
          },
          "metadata": {
            "tags": []
          },
          "execution_count": 6
        }
      ]
    },
    {
      "cell_type": "code",
      "metadata": {
        "colab": {
          "base_uri": "https://localhost:8080/"
        },
        "id": "Stw4afkZIxY2",
        "outputId": "2e0dc417-b846-4bf5-a664-675862491b92"
      },
      "source": [
        "unique_cols = [x for x in df.columns if df[x].nunique()==1]\n",
        "print(unique_cols)\n",
        "df.drop(unique_cols,axis=1,inplace=True)\n",
        "df.columns"
      ],
      "execution_count": 7,
      "outputs": [
        {
          "output_type": "stream",
          "text": [
            "['posting_id']\n"
          ],
          "name": "stdout"
        },
        {
          "output_type": "execute_result",
          "data": {
            "text/plain": [
              "Index(['business_code', 'cust_number', 'name_customer', 'clear_date',\n",
              "       'buisness_year', 'doc_id', 'posting_date', 'document_create_date',\n",
              "       'document_create_date.1', 'due_in_date', 'invoice_currency',\n",
              "       'document type', 'area_business', 'total_open_amount',\n",
              "       'baseline_create_date', 'cust_payment_terms', 'invoice_id', 'isOpen'],\n",
              "      dtype='object')"
            ]
          },
          "metadata": {
            "tags": []
          },
          "execution_count": 7
        }
      ]
    },
    {
      "cell_type": "markdown",
      "metadata": {
        "id": "UCcxxjwxDq_j"
      },
      "source": [
        "**We can use the mean method after isnull to visualise the percentage of missing values for each variable**"
      ]
    },
    {
      "cell_type": "code",
      "metadata": {
        "colab": {
          "base_uri": "https://localhost:8080/"
        },
        "id": "Nx5UKJyGJQEE",
        "outputId": "82281fe0-8e63-4fa9-c58f-db9548d8689c"
      },
      "source": [
        "df.isnull().mean()"
      ],
      "execution_count": 8,
      "outputs": [
        {
          "output_type": "execute_result",
          "data": {
            "text/plain": [
              "business_code             0.00000\n",
              "cust_number               0.00000\n",
              "name_customer             0.00000\n",
              "clear_date                0.20000\n",
              "buisness_year             0.00000\n",
              "doc_id                    0.00000\n",
              "posting_date              0.00000\n",
              "document_create_date      0.00000\n",
              "document_create_date.1    0.00000\n",
              "due_in_date               0.00000\n",
              "invoice_currency          0.00000\n",
              "document type             0.00000\n",
              "area_business             1.00000\n",
              "total_open_amount         0.00000\n",
              "baseline_create_date      0.00000\n",
              "cust_payment_terms        0.00000\n",
              "invoice_id                0.00016\n",
              "isOpen                    0.00000\n",
              "dtype: float64"
            ]
          },
          "metadata": {
            "tags": []
          },
          "execution_count": 8
        }
      ]
    },
    {
      "cell_type": "markdown",
      "metadata": {
        "id": "U6-_VN6GEIJj"
      },
      "source": [
        "**check the presence of null data**"
      ]
    },
    {
      "cell_type": "code",
      "metadata": {
        "colab": {
          "base_uri": "https://localhost:8080/"
        },
        "id": "thsaDQ_XNAn3",
        "outputId": "b3f0c480-353d-4ca1-8672-42b18d5ff90e"
      },
      "source": [
        "[col for col in df.columns if df[col].isnull().sum() > 0]"
      ],
      "execution_count": 9,
      "outputs": [
        {
          "output_type": "execute_result",
          "data": {
            "text/plain": [
              "['clear_date', 'area_business', 'invoice_id']"
            ]
          },
          "metadata": {
            "tags": []
          },
          "execution_count": 9
        }
      ]
    },
    {
      "cell_type": "markdown",
      "metadata": {
        "id": "zwuaHwXpEO7Y"
      },
      "source": [
        "**converts the dates column into dd-mm-yy format**"
      ]
    },
    {
      "cell_type": "code",
      "metadata": {
        "id": "d6bGuzF-ynX1"
      },
      "source": [
        "df['due_in_date']=pd.to_datetime(df.due_in_date, format='%Y%m%d')"
      ],
      "execution_count": 10,
      "outputs": []
    },
    {
      "cell_type": "code",
      "metadata": {
        "colab": {
          "base_uri": "https://localhost:8080/",
          "height": 609
        },
        "id": "FFSGhTEAzlRN",
        "outputId": "d6ff8155-f46b-4370-cee5-ba67344b5738"
      },
      "source": [
        "df['baseline_create_date']=df['baseline_create_date'].astype(int)\n",
        "df['baseline_create_date']=pd.to_datetime(df['baseline_create_date'].astype(str),format='%Y-%m-%d')\n",
        "df"
      ],
      "execution_count": 11,
      "outputs": [
        {
          "output_type": "execute_result",
          "data": {
            "text/html": [
              "<div>\n",
              "<style scoped>\n",
              "    .dataframe tbody tr th:only-of-type {\n",
              "        vertical-align: middle;\n",
              "    }\n",
              "\n",
              "    .dataframe tbody tr th {\n",
              "        vertical-align: top;\n",
              "    }\n",
              "\n",
              "    .dataframe thead th {\n",
              "        text-align: right;\n",
              "    }\n",
              "</style>\n",
              "<table border=\"1\" class=\"dataframe\">\n",
              "  <thead>\n",
              "    <tr style=\"text-align: right;\">\n",
              "      <th></th>\n",
              "      <th>business_code</th>\n",
              "      <th>cust_number</th>\n",
              "      <th>name_customer</th>\n",
              "      <th>clear_date</th>\n",
              "      <th>buisness_year</th>\n",
              "      <th>doc_id</th>\n",
              "      <th>posting_date</th>\n",
              "      <th>document_create_date</th>\n",
              "      <th>document_create_date.1</th>\n",
              "      <th>due_in_date</th>\n",
              "      <th>invoice_currency</th>\n",
              "      <th>document type</th>\n",
              "      <th>area_business</th>\n",
              "      <th>total_open_amount</th>\n",
              "      <th>baseline_create_date</th>\n",
              "      <th>cust_payment_terms</th>\n",
              "      <th>invoice_id</th>\n",
              "      <th>isOpen</th>\n",
              "    </tr>\n",
              "  </thead>\n",
              "  <tbody>\n",
              "    <tr>\n",
              "      <th>0</th>\n",
              "      <td>U001</td>\n",
              "      <td>200772670</td>\n",
              "      <td>ASSOCIAT trust</td>\n",
              "      <td>NaN</td>\n",
              "      <td>2020.0</td>\n",
              "      <td>1.930700e+09</td>\n",
              "      <td>2020-03-25</td>\n",
              "      <td>20200325</td>\n",
              "      <td>20200325</td>\n",
              "      <td>2020-04-09</td>\n",
              "      <td>USD</td>\n",
              "      <td>RV</td>\n",
              "      <td>NaN</td>\n",
              "      <td>19508.61</td>\n",
              "      <td>2020-03-25</td>\n",
              "      <td>NAU5</td>\n",
              "      <td>1.930700e+09</td>\n",
              "      <td>1</td>\n",
              "    </tr>\n",
              "    <tr>\n",
              "      <th>1</th>\n",
              "      <td>CA02</td>\n",
              "      <td>0140105847</td>\n",
              "      <td>GORDON F associates</td>\n",
              "      <td>2019-06-24 00:00:00</td>\n",
              "      <td>2019.0</td>\n",
              "      <td>2.960552e+09</td>\n",
              "      <td>2019-06-08</td>\n",
              "      <td>20190608</td>\n",
              "      <td>20190608</td>\n",
              "      <td>2019-06-18</td>\n",
              "      <td>CAD</td>\n",
              "      <td>RV</td>\n",
              "      <td>NaN</td>\n",
              "      <td>75259.66</td>\n",
              "      <td>2019-06-08</td>\n",
              "      <td>CA10</td>\n",
              "      <td>2.960552e+09</td>\n",
              "      <td>0</td>\n",
              "    </tr>\n",
              "    <tr>\n",
              "      <th>2</th>\n",
              "      <td>U001</td>\n",
              "      <td>0200769623</td>\n",
              "      <td>WAL-MAR co</td>\n",
              "      <td>2019-08-06 00:00:00</td>\n",
              "      <td>2019.0</td>\n",
              "      <td>1.929659e+09</td>\n",
              "      <td>2019-07-26</td>\n",
              "      <td>20190725</td>\n",
              "      <td>20190726</td>\n",
              "      <td>2019-08-10</td>\n",
              "      <td>USD</td>\n",
              "      <td>RV</td>\n",
              "      <td>NaN</td>\n",
              "      <td>50906.31</td>\n",
              "      <td>2019-07-26</td>\n",
              "      <td>NAH4</td>\n",
              "      <td>1.929659e+09</td>\n",
              "      <td>0</td>\n",
              "    </tr>\n",
              "    <tr>\n",
              "      <th>3</th>\n",
              "      <td>U001</td>\n",
              "      <td>0200508557</td>\n",
              "      <td>FOODL co</td>\n",
              "      <td>2019-06-10 00:00:00</td>\n",
              "      <td>2019.0</td>\n",
              "      <td>1.929337e+09</td>\n",
              "      <td>2019-05-24</td>\n",
              "      <td>20190517</td>\n",
              "      <td>20190524</td>\n",
              "      <td>2019-06-08</td>\n",
              "      <td>USD</td>\n",
              "      <td>RV</td>\n",
              "      <td>NaN</td>\n",
              "      <td>2273.37</td>\n",
              "      <td>2019-05-24</td>\n",
              "      <td>NAA8</td>\n",
              "      <td>1.929337e+09</td>\n",
              "      <td>0</td>\n",
              "    </tr>\n",
              "    <tr>\n",
              "      <th>4</th>\n",
              "      <td>U001</td>\n",
              "      <td>0200769623</td>\n",
              "      <td>WAL-MAR associates</td>\n",
              "      <td>2019-02-04 00:00:00</td>\n",
              "      <td>2019.0</td>\n",
              "      <td>1.928652e+09</td>\n",
              "      <td>2019-01-23</td>\n",
              "      <td>20190121</td>\n",
              "      <td>20190123</td>\n",
              "      <td>2019-02-07</td>\n",
              "      <td>USD</td>\n",
              "      <td>RV</td>\n",
              "      <td>NaN</td>\n",
              "      <td>2999.92</td>\n",
              "      <td>2019-01-23</td>\n",
              "      <td>NAH4</td>\n",
              "      <td>1.928652e+09</td>\n",
              "      <td>0</td>\n",
              "    </tr>\n",
              "    <tr>\n",
              "      <th>...</th>\n",
              "      <td>...</td>\n",
              "      <td>...</td>\n",
              "      <td>...</td>\n",
              "      <td>...</td>\n",
              "      <td>...</td>\n",
              "      <td>...</td>\n",
              "      <td>...</td>\n",
              "      <td>...</td>\n",
              "      <td>...</td>\n",
              "      <td>...</td>\n",
              "      <td>...</td>\n",
              "      <td>...</td>\n",
              "      <td>...</td>\n",
              "      <td>...</td>\n",
              "      <td>...</td>\n",
              "      <td>...</td>\n",
              "      <td>...</td>\n",
              "      <td>...</td>\n",
              "    </tr>\n",
              "    <tr>\n",
              "      <th>49995</th>\n",
              "      <td>U001</td>\n",
              "      <td>0200875006</td>\n",
              "      <td>KROGER co</td>\n",
              "      <td>2019-05-03 00:00:00</td>\n",
              "      <td>2019.0</td>\n",
              "      <td>1.929176e+09</td>\n",
              "      <td>2019-04-18</td>\n",
              "      <td>20190419</td>\n",
              "      <td>20190418</td>\n",
              "      <td>2019-05-03</td>\n",
              "      <td>USD</td>\n",
              "      <td>RV</td>\n",
              "      <td>NaN</td>\n",
              "      <td>104935.25</td>\n",
              "      <td>2019-04-18</td>\n",
              "      <td>NAA8</td>\n",
              "      <td>1.929176e+09</td>\n",
              "      <td>0</td>\n",
              "    </tr>\n",
              "    <tr>\n",
              "      <th>49996</th>\n",
              "      <td>U001</td>\n",
              "      <td>0200416837</td>\n",
              "      <td>DEC llc</td>\n",
              "      <td>NaN</td>\n",
              "      <td>2020.0</td>\n",
              "      <td>1.930813e+09</td>\n",
              "      <td>2020-04-22</td>\n",
              "      <td>20200422</td>\n",
              "      <td>20200422</td>\n",
              "      <td>2020-05-09</td>\n",
              "      <td>USD</td>\n",
              "      <td>RV</td>\n",
              "      <td>NaN</td>\n",
              "      <td>462.24</td>\n",
              "      <td>2020-04-16</td>\n",
              "      <td>NAM4</td>\n",
              "      <td>1.930813e+09</td>\n",
              "      <td>1</td>\n",
              "    </tr>\n",
              "    <tr>\n",
              "      <th>49997</th>\n",
              "      <td>U001</td>\n",
              "      <td>0200769623</td>\n",
              "      <td>WAL-MAR llc</td>\n",
              "      <td>2019-04-22 00:00:00</td>\n",
              "      <td>2019.0</td>\n",
              "      <td>1.929116e+09</td>\n",
              "      <td>2019-04-11</td>\n",
              "      <td>20190410</td>\n",
              "      <td>20190411</td>\n",
              "      <td>2019-04-26</td>\n",
              "      <td>USD</td>\n",
              "      <td>RV</td>\n",
              "      <td>NaN</td>\n",
              "      <td>51229.90</td>\n",
              "      <td>2019-04-11</td>\n",
              "      <td>NAH4</td>\n",
              "      <td>1.929116e+09</td>\n",
              "      <td>0</td>\n",
              "    </tr>\n",
              "    <tr>\n",
              "      <th>49998</th>\n",
              "      <td>U001</td>\n",
              "      <td>0200750051</td>\n",
              "      <td>ALBER corporation</td>\n",
              "      <td>2019-03-22 00:00:00</td>\n",
              "      <td>2019.0</td>\n",
              "      <td>1.928924e+09</td>\n",
              "      <td>2019-03-07</td>\n",
              "      <td>20190307</td>\n",
              "      <td>20190307</td>\n",
              "      <td>2019-03-22</td>\n",
              "      <td>USD</td>\n",
              "      <td>RV</td>\n",
              "      <td>NaN</td>\n",
              "      <td>109197.74</td>\n",
              "      <td>2019-03-07</td>\n",
              "      <td>NAA8</td>\n",
              "      <td>1.928924e+09</td>\n",
              "      <td>0</td>\n",
              "    </tr>\n",
              "    <tr>\n",
              "      <th>49999</th>\n",
              "      <td>U001</td>\n",
              "      <td>0200353024</td>\n",
              "      <td>DECA foundation</td>\n",
              "      <td>2020-02-03 00:00:00</td>\n",
              "      <td>2020.0</td>\n",
              "      <td>1.930434e+09</td>\n",
              "      <td>2020-01-24</td>\n",
              "      <td>20200124</td>\n",
              "      <td>20200124</td>\n",
              "      <td>2020-02-08</td>\n",
              "      <td>USD</td>\n",
              "      <td>RV</td>\n",
              "      <td>NaN</td>\n",
              "      <td>858.24</td>\n",
              "      <td>2020-01-16</td>\n",
              "      <td>NAM4</td>\n",
              "      <td>1.930434e+09</td>\n",
              "      <td>0</td>\n",
              "    </tr>\n",
              "  </tbody>\n",
              "</table>\n",
              "<p>50000 rows × 18 columns</p>\n",
              "</div>"
            ],
            "text/plain": [
              "      business_code cust_number  ...    invoice_id isOpen\n",
              "0              U001   200772670  ...  1.930700e+09      1\n",
              "1              CA02  0140105847  ...  2.960552e+09      0\n",
              "2              U001  0200769623  ...  1.929659e+09      0\n",
              "3              U001  0200508557  ...  1.929337e+09      0\n",
              "4              U001  0200769623  ...  1.928652e+09      0\n",
              "...             ...         ...  ...           ...    ...\n",
              "49995          U001  0200875006  ...  1.929176e+09      0\n",
              "49996          U001  0200416837  ...  1.930813e+09      1\n",
              "49997          U001  0200769623  ...  1.929116e+09      0\n",
              "49998          U001  0200750051  ...  1.928924e+09      0\n",
              "49999          U001  0200353024  ...  1.930434e+09      0\n",
              "\n",
              "[50000 rows x 18 columns]"
            ]
          },
          "metadata": {
            "tags": []
          },
          "execution_count": 11
        }
      ]
    },
    {
      "cell_type": "code",
      "metadata": {
        "colab": {
          "base_uri": "https://localhost:8080/",
          "height": 609
        },
        "id": "4kmm4F8sz1Lw",
        "outputId": "51e6d428-4340-45c8-8a79-e9ad0faea4be"
      },
      "source": [
        "df['document_create_date']=df['document_create_date'].astype(int)\n",
        "df['document_create_date']=pd.to_datetime(df['document_create_date'].astype(str),format='%Y-%m-%d')\n",
        "df"
      ],
      "execution_count": 12,
      "outputs": [
        {
          "output_type": "execute_result",
          "data": {
            "text/html": [
              "<div>\n",
              "<style scoped>\n",
              "    .dataframe tbody tr th:only-of-type {\n",
              "        vertical-align: middle;\n",
              "    }\n",
              "\n",
              "    .dataframe tbody tr th {\n",
              "        vertical-align: top;\n",
              "    }\n",
              "\n",
              "    .dataframe thead th {\n",
              "        text-align: right;\n",
              "    }\n",
              "</style>\n",
              "<table border=\"1\" class=\"dataframe\">\n",
              "  <thead>\n",
              "    <tr style=\"text-align: right;\">\n",
              "      <th></th>\n",
              "      <th>business_code</th>\n",
              "      <th>cust_number</th>\n",
              "      <th>name_customer</th>\n",
              "      <th>clear_date</th>\n",
              "      <th>buisness_year</th>\n",
              "      <th>doc_id</th>\n",
              "      <th>posting_date</th>\n",
              "      <th>document_create_date</th>\n",
              "      <th>document_create_date.1</th>\n",
              "      <th>due_in_date</th>\n",
              "      <th>invoice_currency</th>\n",
              "      <th>document type</th>\n",
              "      <th>area_business</th>\n",
              "      <th>total_open_amount</th>\n",
              "      <th>baseline_create_date</th>\n",
              "      <th>cust_payment_terms</th>\n",
              "      <th>invoice_id</th>\n",
              "      <th>isOpen</th>\n",
              "    </tr>\n",
              "  </thead>\n",
              "  <tbody>\n",
              "    <tr>\n",
              "      <th>0</th>\n",
              "      <td>U001</td>\n",
              "      <td>200772670</td>\n",
              "      <td>ASSOCIAT trust</td>\n",
              "      <td>NaN</td>\n",
              "      <td>2020.0</td>\n",
              "      <td>1.930700e+09</td>\n",
              "      <td>2020-03-25</td>\n",
              "      <td>2020-03-25</td>\n",
              "      <td>20200325</td>\n",
              "      <td>2020-04-09</td>\n",
              "      <td>USD</td>\n",
              "      <td>RV</td>\n",
              "      <td>NaN</td>\n",
              "      <td>19508.61</td>\n",
              "      <td>2020-03-25</td>\n",
              "      <td>NAU5</td>\n",
              "      <td>1.930700e+09</td>\n",
              "      <td>1</td>\n",
              "    </tr>\n",
              "    <tr>\n",
              "      <th>1</th>\n",
              "      <td>CA02</td>\n",
              "      <td>0140105847</td>\n",
              "      <td>GORDON F associates</td>\n",
              "      <td>2019-06-24 00:00:00</td>\n",
              "      <td>2019.0</td>\n",
              "      <td>2.960552e+09</td>\n",
              "      <td>2019-06-08</td>\n",
              "      <td>2019-06-08</td>\n",
              "      <td>20190608</td>\n",
              "      <td>2019-06-18</td>\n",
              "      <td>CAD</td>\n",
              "      <td>RV</td>\n",
              "      <td>NaN</td>\n",
              "      <td>75259.66</td>\n",
              "      <td>2019-06-08</td>\n",
              "      <td>CA10</td>\n",
              "      <td>2.960552e+09</td>\n",
              "      <td>0</td>\n",
              "    </tr>\n",
              "    <tr>\n",
              "      <th>2</th>\n",
              "      <td>U001</td>\n",
              "      <td>0200769623</td>\n",
              "      <td>WAL-MAR co</td>\n",
              "      <td>2019-08-06 00:00:00</td>\n",
              "      <td>2019.0</td>\n",
              "      <td>1.929659e+09</td>\n",
              "      <td>2019-07-26</td>\n",
              "      <td>2019-07-25</td>\n",
              "      <td>20190726</td>\n",
              "      <td>2019-08-10</td>\n",
              "      <td>USD</td>\n",
              "      <td>RV</td>\n",
              "      <td>NaN</td>\n",
              "      <td>50906.31</td>\n",
              "      <td>2019-07-26</td>\n",
              "      <td>NAH4</td>\n",
              "      <td>1.929659e+09</td>\n",
              "      <td>0</td>\n",
              "    </tr>\n",
              "    <tr>\n",
              "      <th>3</th>\n",
              "      <td>U001</td>\n",
              "      <td>0200508557</td>\n",
              "      <td>FOODL co</td>\n",
              "      <td>2019-06-10 00:00:00</td>\n",
              "      <td>2019.0</td>\n",
              "      <td>1.929337e+09</td>\n",
              "      <td>2019-05-24</td>\n",
              "      <td>2019-05-17</td>\n",
              "      <td>20190524</td>\n",
              "      <td>2019-06-08</td>\n",
              "      <td>USD</td>\n",
              "      <td>RV</td>\n",
              "      <td>NaN</td>\n",
              "      <td>2273.37</td>\n",
              "      <td>2019-05-24</td>\n",
              "      <td>NAA8</td>\n",
              "      <td>1.929337e+09</td>\n",
              "      <td>0</td>\n",
              "    </tr>\n",
              "    <tr>\n",
              "      <th>4</th>\n",
              "      <td>U001</td>\n",
              "      <td>0200769623</td>\n",
              "      <td>WAL-MAR associates</td>\n",
              "      <td>2019-02-04 00:00:00</td>\n",
              "      <td>2019.0</td>\n",
              "      <td>1.928652e+09</td>\n",
              "      <td>2019-01-23</td>\n",
              "      <td>2019-01-21</td>\n",
              "      <td>20190123</td>\n",
              "      <td>2019-02-07</td>\n",
              "      <td>USD</td>\n",
              "      <td>RV</td>\n",
              "      <td>NaN</td>\n",
              "      <td>2999.92</td>\n",
              "      <td>2019-01-23</td>\n",
              "      <td>NAH4</td>\n",
              "      <td>1.928652e+09</td>\n",
              "      <td>0</td>\n",
              "    </tr>\n",
              "    <tr>\n",
              "      <th>...</th>\n",
              "      <td>...</td>\n",
              "      <td>...</td>\n",
              "      <td>...</td>\n",
              "      <td>...</td>\n",
              "      <td>...</td>\n",
              "      <td>...</td>\n",
              "      <td>...</td>\n",
              "      <td>...</td>\n",
              "      <td>...</td>\n",
              "      <td>...</td>\n",
              "      <td>...</td>\n",
              "      <td>...</td>\n",
              "      <td>...</td>\n",
              "      <td>...</td>\n",
              "      <td>...</td>\n",
              "      <td>...</td>\n",
              "      <td>...</td>\n",
              "      <td>...</td>\n",
              "    </tr>\n",
              "    <tr>\n",
              "      <th>49995</th>\n",
              "      <td>U001</td>\n",
              "      <td>0200875006</td>\n",
              "      <td>KROGER co</td>\n",
              "      <td>2019-05-03 00:00:00</td>\n",
              "      <td>2019.0</td>\n",
              "      <td>1.929176e+09</td>\n",
              "      <td>2019-04-18</td>\n",
              "      <td>2019-04-19</td>\n",
              "      <td>20190418</td>\n",
              "      <td>2019-05-03</td>\n",
              "      <td>USD</td>\n",
              "      <td>RV</td>\n",
              "      <td>NaN</td>\n",
              "      <td>104935.25</td>\n",
              "      <td>2019-04-18</td>\n",
              "      <td>NAA8</td>\n",
              "      <td>1.929176e+09</td>\n",
              "      <td>0</td>\n",
              "    </tr>\n",
              "    <tr>\n",
              "      <th>49996</th>\n",
              "      <td>U001</td>\n",
              "      <td>0200416837</td>\n",
              "      <td>DEC llc</td>\n",
              "      <td>NaN</td>\n",
              "      <td>2020.0</td>\n",
              "      <td>1.930813e+09</td>\n",
              "      <td>2020-04-22</td>\n",
              "      <td>2020-04-22</td>\n",
              "      <td>20200422</td>\n",
              "      <td>2020-05-09</td>\n",
              "      <td>USD</td>\n",
              "      <td>RV</td>\n",
              "      <td>NaN</td>\n",
              "      <td>462.24</td>\n",
              "      <td>2020-04-16</td>\n",
              "      <td>NAM4</td>\n",
              "      <td>1.930813e+09</td>\n",
              "      <td>1</td>\n",
              "    </tr>\n",
              "    <tr>\n",
              "      <th>49997</th>\n",
              "      <td>U001</td>\n",
              "      <td>0200769623</td>\n",
              "      <td>WAL-MAR llc</td>\n",
              "      <td>2019-04-22 00:00:00</td>\n",
              "      <td>2019.0</td>\n",
              "      <td>1.929116e+09</td>\n",
              "      <td>2019-04-11</td>\n",
              "      <td>2019-04-10</td>\n",
              "      <td>20190411</td>\n",
              "      <td>2019-04-26</td>\n",
              "      <td>USD</td>\n",
              "      <td>RV</td>\n",
              "      <td>NaN</td>\n",
              "      <td>51229.90</td>\n",
              "      <td>2019-04-11</td>\n",
              "      <td>NAH4</td>\n",
              "      <td>1.929116e+09</td>\n",
              "      <td>0</td>\n",
              "    </tr>\n",
              "    <tr>\n",
              "      <th>49998</th>\n",
              "      <td>U001</td>\n",
              "      <td>0200750051</td>\n",
              "      <td>ALBER corporation</td>\n",
              "      <td>2019-03-22 00:00:00</td>\n",
              "      <td>2019.0</td>\n",
              "      <td>1.928924e+09</td>\n",
              "      <td>2019-03-07</td>\n",
              "      <td>2019-03-07</td>\n",
              "      <td>20190307</td>\n",
              "      <td>2019-03-22</td>\n",
              "      <td>USD</td>\n",
              "      <td>RV</td>\n",
              "      <td>NaN</td>\n",
              "      <td>109197.74</td>\n",
              "      <td>2019-03-07</td>\n",
              "      <td>NAA8</td>\n",
              "      <td>1.928924e+09</td>\n",
              "      <td>0</td>\n",
              "    </tr>\n",
              "    <tr>\n",
              "      <th>49999</th>\n",
              "      <td>U001</td>\n",
              "      <td>0200353024</td>\n",
              "      <td>DECA foundation</td>\n",
              "      <td>2020-02-03 00:00:00</td>\n",
              "      <td>2020.0</td>\n",
              "      <td>1.930434e+09</td>\n",
              "      <td>2020-01-24</td>\n",
              "      <td>2020-01-24</td>\n",
              "      <td>20200124</td>\n",
              "      <td>2020-02-08</td>\n",
              "      <td>USD</td>\n",
              "      <td>RV</td>\n",
              "      <td>NaN</td>\n",
              "      <td>858.24</td>\n",
              "      <td>2020-01-16</td>\n",
              "      <td>NAM4</td>\n",
              "      <td>1.930434e+09</td>\n",
              "      <td>0</td>\n",
              "    </tr>\n",
              "  </tbody>\n",
              "</table>\n",
              "<p>50000 rows × 18 columns</p>\n",
              "</div>"
            ],
            "text/plain": [
              "      business_code cust_number  ...    invoice_id isOpen\n",
              "0              U001   200772670  ...  1.930700e+09      1\n",
              "1              CA02  0140105847  ...  2.960552e+09      0\n",
              "2              U001  0200769623  ...  1.929659e+09      0\n",
              "3              U001  0200508557  ...  1.929337e+09      0\n",
              "4              U001  0200769623  ...  1.928652e+09      0\n",
              "...             ...         ...  ...           ...    ...\n",
              "49995          U001  0200875006  ...  1.929176e+09      0\n",
              "49996          U001  0200416837  ...  1.930813e+09      1\n",
              "49997          U001  0200769623  ...  1.929116e+09      0\n",
              "49998          U001  0200750051  ...  1.928924e+09      0\n",
              "49999          U001  0200353024  ...  1.930434e+09      0\n",
              "\n",
              "[50000 rows x 18 columns]"
            ]
          },
          "metadata": {
            "tags": []
          },
          "execution_count": 12
        }
      ]
    },
    {
      "cell_type": "code",
      "metadata": {
        "colab": {
          "base_uri": "https://localhost:8080/",
          "height": 609
        },
        "id": "jsTJvEz_0GGS",
        "outputId": "caa90b77-988b-4832-afb1-90cd13f8e904"
      },
      "source": [
        "df['document_create_date.1']=df['document_create_date.1'].astype(int)\n",
        "df['document_create_date.1']=pd.to_datetime(df['document_create_date.1'].astype(str),format='%Y-%m-%d')\n",
        "df"
      ],
      "execution_count": 13,
      "outputs": [
        {
          "output_type": "execute_result",
          "data": {
            "text/html": [
              "<div>\n",
              "<style scoped>\n",
              "    .dataframe tbody tr th:only-of-type {\n",
              "        vertical-align: middle;\n",
              "    }\n",
              "\n",
              "    .dataframe tbody tr th {\n",
              "        vertical-align: top;\n",
              "    }\n",
              "\n",
              "    .dataframe thead th {\n",
              "        text-align: right;\n",
              "    }\n",
              "</style>\n",
              "<table border=\"1\" class=\"dataframe\">\n",
              "  <thead>\n",
              "    <tr style=\"text-align: right;\">\n",
              "      <th></th>\n",
              "      <th>business_code</th>\n",
              "      <th>cust_number</th>\n",
              "      <th>name_customer</th>\n",
              "      <th>clear_date</th>\n",
              "      <th>buisness_year</th>\n",
              "      <th>doc_id</th>\n",
              "      <th>posting_date</th>\n",
              "      <th>document_create_date</th>\n",
              "      <th>document_create_date.1</th>\n",
              "      <th>due_in_date</th>\n",
              "      <th>invoice_currency</th>\n",
              "      <th>document type</th>\n",
              "      <th>area_business</th>\n",
              "      <th>total_open_amount</th>\n",
              "      <th>baseline_create_date</th>\n",
              "      <th>cust_payment_terms</th>\n",
              "      <th>invoice_id</th>\n",
              "      <th>isOpen</th>\n",
              "    </tr>\n",
              "  </thead>\n",
              "  <tbody>\n",
              "    <tr>\n",
              "      <th>0</th>\n",
              "      <td>U001</td>\n",
              "      <td>200772670</td>\n",
              "      <td>ASSOCIAT trust</td>\n",
              "      <td>NaN</td>\n",
              "      <td>2020.0</td>\n",
              "      <td>1.930700e+09</td>\n",
              "      <td>2020-03-25</td>\n",
              "      <td>2020-03-25</td>\n",
              "      <td>2020-03-25</td>\n",
              "      <td>2020-04-09</td>\n",
              "      <td>USD</td>\n",
              "      <td>RV</td>\n",
              "      <td>NaN</td>\n",
              "      <td>19508.61</td>\n",
              "      <td>2020-03-25</td>\n",
              "      <td>NAU5</td>\n",
              "      <td>1.930700e+09</td>\n",
              "      <td>1</td>\n",
              "    </tr>\n",
              "    <tr>\n",
              "      <th>1</th>\n",
              "      <td>CA02</td>\n",
              "      <td>0140105847</td>\n",
              "      <td>GORDON F associates</td>\n",
              "      <td>2019-06-24 00:00:00</td>\n",
              "      <td>2019.0</td>\n",
              "      <td>2.960552e+09</td>\n",
              "      <td>2019-06-08</td>\n",
              "      <td>2019-06-08</td>\n",
              "      <td>2019-06-08</td>\n",
              "      <td>2019-06-18</td>\n",
              "      <td>CAD</td>\n",
              "      <td>RV</td>\n",
              "      <td>NaN</td>\n",
              "      <td>75259.66</td>\n",
              "      <td>2019-06-08</td>\n",
              "      <td>CA10</td>\n",
              "      <td>2.960552e+09</td>\n",
              "      <td>0</td>\n",
              "    </tr>\n",
              "    <tr>\n",
              "      <th>2</th>\n",
              "      <td>U001</td>\n",
              "      <td>0200769623</td>\n",
              "      <td>WAL-MAR co</td>\n",
              "      <td>2019-08-06 00:00:00</td>\n",
              "      <td>2019.0</td>\n",
              "      <td>1.929659e+09</td>\n",
              "      <td>2019-07-26</td>\n",
              "      <td>2019-07-25</td>\n",
              "      <td>2019-07-26</td>\n",
              "      <td>2019-08-10</td>\n",
              "      <td>USD</td>\n",
              "      <td>RV</td>\n",
              "      <td>NaN</td>\n",
              "      <td>50906.31</td>\n",
              "      <td>2019-07-26</td>\n",
              "      <td>NAH4</td>\n",
              "      <td>1.929659e+09</td>\n",
              "      <td>0</td>\n",
              "    </tr>\n",
              "    <tr>\n",
              "      <th>3</th>\n",
              "      <td>U001</td>\n",
              "      <td>0200508557</td>\n",
              "      <td>FOODL co</td>\n",
              "      <td>2019-06-10 00:00:00</td>\n",
              "      <td>2019.0</td>\n",
              "      <td>1.929337e+09</td>\n",
              "      <td>2019-05-24</td>\n",
              "      <td>2019-05-17</td>\n",
              "      <td>2019-05-24</td>\n",
              "      <td>2019-06-08</td>\n",
              "      <td>USD</td>\n",
              "      <td>RV</td>\n",
              "      <td>NaN</td>\n",
              "      <td>2273.37</td>\n",
              "      <td>2019-05-24</td>\n",
              "      <td>NAA8</td>\n",
              "      <td>1.929337e+09</td>\n",
              "      <td>0</td>\n",
              "    </tr>\n",
              "    <tr>\n",
              "      <th>4</th>\n",
              "      <td>U001</td>\n",
              "      <td>0200769623</td>\n",
              "      <td>WAL-MAR associates</td>\n",
              "      <td>2019-02-04 00:00:00</td>\n",
              "      <td>2019.0</td>\n",
              "      <td>1.928652e+09</td>\n",
              "      <td>2019-01-23</td>\n",
              "      <td>2019-01-21</td>\n",
              "      <td>2019-01-23</td>\n",
              "      <td>2019-02-07</td>\n",
              "      <td>USD</td>\n",
              "      <td>RV</td>\n",
              "      <td>NaN</td>\n",
              "      <td>2999.92</td>\n",
              "      <td>2019-01-23</td>\n",
              "      <td>NAH4</td>\n",
              "      <td>1.928652e+09</td>\n",
              "      <td>0</td>\n",
              "    </tr>\n",
              "    <tr>\n",
              "      <th>...</th>\n",
              "      <td>...</td>\n",
              "      <td>...</td>\n",
              "      <td>...</td>\n",
              "      <td>...</td>\n",
              "      <td>...</td>\n",
              "      <td>...</td>\n",
              "      <td>...</td>\n",
              "      <td>...</td>\n",
              "      <td>...</td>\n",
              "      <td>...</td>\n",
              "      <td>...</td>\n",
              "      <td>...</td>\n",
              "      <td>...</td>\n",
              "      <td>...</td>\n",
              "      <td>...</td>\n",
              "      <td>...</td>\n",
              "      <td>...</td>\n",
              "      <td>...</td>\n",
              "    </tr>\n",
              "    <tr>\n",
              "      <th>49995</th>\n",
              "      <td>U001</td>\n",
              "      <td>0200875006</td>\n",
              "      <td>KROGER co</td>\n",
              "      <td>2019-05-03 00:00:00</td>\n",
              "      <td>2019.0</td>\n",
              "      <td>1.929176e+09</td>\n",
              "      <td>2019-04-18</td>\n",
              "      <td>2019-04-19</td>\n",
              "      <td>2019-04-18</td>\n",
              "      <td>2019-05-03</td>\n",
              "      <td>USD</td>\n",
              "      <td>RV</td>\n",
              "      <td>NaN</td>\n",
              "      <td>104935.25</td>\n",
              "      <td>2019-04-18</td>\n",
              "      <td>NAA8</td>\n",
              "      <td>1.929176e+09</td>\n",
              "      <td>0</td>\n",
              "    </tr>\n",
              "    <tr>\n",
              "      <th>49996</th>\n",
              "      <td>U001</td>\n",
              "      <td>0200416837</td>\n",
              "      <td>DEC llc</td>\n",
              "      <td>NaN</td>\n",
              "      <td>2020.0</td>\n",
              "      <td>1.930813e+09</td>\n",
              "      <td>2020-04-22</td>\n",
              "      <td>2020-04-22</td>\n",
              "      <td>2020-04-22</td>\n",
              "      <td>2020-05-09</td>\n",
              "      <td>USD</td>\n",
              "      <td>RV</td>\n",
              "      <td>NaN</td>\n",
              "      <td>462.24</td>\n",
              "      <td>2020-04-16</td>\n",
              "      <td>NAM4</td>\n",
              "      <td>1.930813e+09</td>\n",
              "      <td>1</td>\n",
              "    </tr>\n",
              "    <tr>\n",
              "      <th>49997</th>\n",
              "      <td>U001</td>\n",
              "      <td>0200769623</td>\n",
              "      <td>WAL-MAR llc</td>\n",
              "      <td>2019-04-22 00:00:00</td>\n",
              "      <td>2019.0</td>\n",
              "      <td>1.929116e+09</td>\n",
              "      <td>2019-04-11</td>\n",
              "      <td>2019-04-10</td>\n",
              "      <td>2019-04-11</td>\n",
              "      <td>2019-04-26</td>\n",
              "      <td>USD</td>\n",
              "      <td>RV</td>\n",
              "      <td>NaN</td>\n",
              "      <td>51229.90</td>\n",
              "      <td>2019-04-11</td>\n",
              "      <td>NAH4</td>\n",
              "      <td>1.929116e+09</td>\n",
              "      <td>0</td>\n",
              "    </tr>\n",
              "    <tr>\n",
              "      <th>49998</th>\n",
              "      <td>U001</td>\n",
              "      <td>0200750051</td>\n",
              "      <td>ALBER corporation</td>\n",
              "      <td>2019-03-22 00:00:00</td>\n",
              "      <td>2019.0</td>\n",
              "      <td>1.928924e+09</td>\n",
              "      <td>2019-03-07</td>\n",
              "      <td>2019-03-07</td>\n",
              "      <td>2019-03-07</td>\n",
              "      <td>2019-03-22</td>\n",
              "      <td>USD</td>\n",
              "      <td>RV</td>\n",
              "      <td>NaN</td>\n",
              "      <td>109197.74</td>\n",
              "      <td>2019-03-07</td>\n",
              "      <td>NAA8</td>\n",
              "      <td>1.928924e+09</td>\n",
              "      <td>0</td>\n",
              "    </tr>\n",
              "    <tr>\n",
              "      <th>49999</th>\n",
              "      <td>U001</td>\n",
              "      <td>0200353024</td>\n",
              "      <td>DECA foundation</td>\n",
              "      <td>2020-02-03 00:00:00</td>\n",
              "      <td>2020.0</td>\n",
              "      <td>1.930434e+09</td>\n",
              "      <td>2020-01-24</td>\n",
              "      <td>2020-01-24</td>\n",
              "      <td>2020-01-24</td>\n",
              "      <td>2020-02-08</td>\n",
              "      <td>USD</td>\n",
              "      <td>RV</td>\n",
              "      <td>NaN</td>\n",
              "      <td>858.24</td>\n",
              "      <td>2020-01-16</td>\n",
              "      <td>NAM4</td>\n",
              "      <td>1.930434e+09</td>\n",
              "      <td>0</td>\n",
              "    </tr>\n",
              "  </tbody>\n",
              "</table>\n",
              "<p>50000 rows × 18 columns</p>\n",
              "</div>"
            ],
            "text/plain": [
              "      business_code cust_number  ...    invoice_id isOpen\n",
              "0              U001   200772670  ...  1.930700e+09      1\n",
              "1              CA02  0140105847  ...  2.960552e+09      0\n",
              "2              U001  0200769623  ...  1.929659e+09      0\n",
              "3              U001  0200508557  ...  1.929337e+09      0\n",
              "4              U001  0200769623  ...  1.928652e+09      0\n",
              "...             ...         ...  ...           ...    ...\n",
              "49995          U001  0200875006  ...  1.929176e+09      0\n",
              "49996          U001  0200416837  ...  1.930813e+09      1\n",
              "49997          U001  0200769623  ...  1.929116e+09      0\n",
              "49998          U001  0200750051  ...  1.928924e+09      0\n",
              "49999          U001  0200353024  ...  1.930434e+09      0\n",
              "\n",
              "[50000 rows x 18 columns]"
            ]
          },
          "metadata": {
            "tags": []
          },
          "execution_count": 13
        }
      ]
    },
    {
      "cell_type": "markdown",
      "metadata": {
        "id": "a-G5K3kUEZyA"
      },
      "source": [
        "**converts the date column into datetime format**"
      ]
    },
    {
      "cell_type": "code",
      "metadata": {
        "colab": {
          "base_uri": "https://localhost:8080/"
        },
        "id": "FdeNDk2X0gzq",
        "outputId": "e3763966-31f2-4cad-bd59-a40e946a250f"
      },
      "source": [
        "df['clear_date']=pd.to_datetime(df['clear_date'])\n",
        "df['posting_date']=pd.to_datetime(df['posting_date'])\n",
        "df['baseline_create_date']=pd.to_datetime(df['baseline_create_date'])\n",
        "df['document_create_date.1']=pd.to_datetime(df['document_create_date.1'])\n",
        "df['due_in_date']=pd.to_datetime(df['due_in_date'])\n",
        "df.dtypes\n"
      ],
      "execution_count": 14,
      "outputs": [
        {
          "output_type": "execute_result",
          "data": {
            "text/plain": [
              "business_code                     object\n",
              "cust_number                       object\n",
              "name_customer                     object\n",
              "clear_date                datetime64[ns]\n",
              "buisness_year                    float64\n",
              "doc_id                           float64\n",
              "posting_date              datetime64[ns]\n",
              "document_create_date      datetime64[ns]\n",
              "document_create_date.1    datetime64[ns]\n",
              "due_in_date               datetime64[ns]\n",
              "invoice_currency                  object\n",
              "document type                     object\n",
              "area_business                    float64\n",
              "total_open_amount                float64\n",
              "baseline_create_date      datetime64[ns]\n",
              "cust_payment_terms                object\n",
              "invoice_id                       float64\n",
              "isOpen                             int64\n",
              "dtype: object"
            ]
          },
          "metadata": {
            "tags": []
          },
          "execution_count": 14
        }
      ]
    },
    {
      "cell_type": "markdown",
      "metadata": {
        "id": "2p4NuxrVEleq"
      },
      "source": [
        "**calculate the delay by subtracting due_in_date column from clear_date column**"
      ]
    },
    {
      "cell_type": "code",
      "metadata": {
        "id": "KIQgmsuX2DwG"
      },
      "source": [
        "df['Delay'] = (df['clear_date'] - df['due_in_date']).dt.days"
      ],
      "execution_count": 15,
      "outputs": []
    },
    {
      "cell_type": "markdown",
      "metadata": {
        "id": "qP6xE7EpE1KK"
      },
      "source": [
        "**show the delay**"
      ]
    },
    {
      "cell_type": "code",
      "metadata": {
        "colab": {
          "base_uri": "https://localhost:8080/"
        },
        "id": "5-WcrjYc2D2H",
        "outputId": "1ba21613-3907-4039-9448-7e404ade702d"
      },
      "source": [
        "df['Delay']"
      ],
      "execution_count": 16,
      "outputs": [
        {
          "output_type": "execute_result",
          "data": {
            "text/plain": [
              "0        NaN\n",
              "1        6.0\n",
              "2       -4.0\n",
              "3        2.0\n",
              "4       -3.0\n",
              "        ... \n",
              "49995    0.0\n",
              "49996    NaN\n",
              "49997   -4.0\n",
              "49998    0.0\n",
              "49999   -5.0\n",
              "Name: Delay, Length: 50000, dtype: float64"
            ]
          },
          "metadata": {
            "tags": []
          },
          "execution_count": 16
        }
      ]
    },
    {
      "cell_type": "markdown",
      "metadata": {
        "id": "vv61lqzXFFhA"
      },
      "source": [
        "**plot the graph for the delay**"
      ]
    },
    {
      "cell_type": "code",
      "metadata": {
        "colab": {
          "base_uri": "https://localhost:8080/",
          "height": 296
        },
        "id": "j4vb2NYsQrkC",
        "outputId": "efd0d98b-fef7-42b5-e59d-6b2ee9bd2512"
      },
      "source": [
        "sns.distplot(df['Delay'])"
      ],
      "execution_count": 17,
      "outputs": [
        {
          "output_type": "execute_result",
          "data": {
            "text/plain": [
              "<matplotlib.axes._subplots.AxesSubplot at 0x7f9d700667d0>"
            ]
          },
          "metadata": {
            "tags": []
          },
          "execution_count": 17
        },
        {
          "output_type": "display_data",
          "data": {
            "image/png": "[encoded data removed]",
            "text/plain": [
              "<Figure size 432x288 with 1 Axes>"
            ]
          },
          "metadata": {
            "tags": [],
            "needs_background": "light"
          }
        }
      ]
    },
    {
      "cell_type": "markdown",
      "metadata": {
        "id": "vUYJtv-sFYpX"
      },
      "source": [
        "**use correlation to find the relationship between the variables**"
      ]
    },
    {
      "cell_type": "code",
      "metadata": {
        "colab": {
          "base_uri": "https://localhost:8080/"
        },
        "id": "UMfb7EyCwJmg",
        "outputId": "c7103e2a-1963-4cef-f222-2f50eb05458a"
      },
      "source": [
        "df.corr().loc['Delay',:]\n"
      ],
      "execution_count": 18,
      "outputs": [
        {
          "output_type": "execute_result",
          "data": {
            "text/plain": [
              "buisness_year       -0.004999\n",
              "doc_id               0.154041\n",
              "area_business             NaN\n",
              "total_open_amount    0.003190\n",
              "invoice_id           0.136574\n",
              "isOpen                    NaN\n",
              "Delay                1.000000\n",
              "Name: Delay, dtype: float64"
            ]
          },
          "metadata": {
            "tags": []
          },
          "execution_count": 18
        }
      ]
    },
    {
      "cell_type": "markdown",
      "metadata": {
        "id": "8pHfcY6fFmdY"
      },
      "source": [
        "**convert all the dates column from the datetime format to days**"
      ]
    },
    {
      "cell_type": "code",
      "metadata": {
        "id": "xgX0T15VkCG4"
      },
      "source": [
        "df['posting_date']=(df['posting_date']-pd.to_datetime('1970-01-01')).dt.days\n"
      ],
      "execution_count": 19,
      "outputs": []
    },
    {
      "cell_type": "code",
      "metadata": {
        "id": "hNhfSF_pkG2V"
      },
      "source": [
        "df['document_create_date']=(df['document_create_date']-pd.to_datetime('1970-01-01')).dt.days\n"
      ],
      "execution_count": 20,
      "outputs": []
    },
    {
      "cell_type": "code",
      "metadata": {
        "id": "DZeHX1cJkK0l"
      },
      "source": [
        "df['document_create_date.1']=(df['document_create_date.1']-pd.to_datetime('1970-01-01')).dt.days\n"
      ],
      "execution_count": 21,
      "outputs": []
    },
    {
      "cell_type": "code",
      "metadata": {
        "id": "tAUyFuqAkO7u"
      },
      "source": [
        "df['clear_date']=(df['clear_date']-pd.to_datetime('1970-01-01')).dt.days\n"
      ],
      "execution_count": 22,
      "outputs": []
    },
    {
      "cell_type": "code",
      "metadata": {
        "id": "iOZmrlCFkSrS"
      },
      "source": [
        "df['due_in_date']=(df['due_in_date']-pd.to_datetime('1970-01-01')).dt.days\n"
      ],
      "execution_count": 23,
      "outputs": []
    },
    {
      "cell_type": "code",
      "metadata": {
        "id": "pKjE7UyikXRE"
      },
      "source": [
        "df['baseline_create_date']=(df['baseline_create_date']-pd.to_datetime('1970-01-01')).dt.days\n"
      ],
      "execution_count": 24,
      "outputs": []
    },
    {
      "cell_type": "markdown",
      "metadata": {
        "id": "ZN4vMGqiFyTd"
      },
      "source": [
        "**use label encoder to convert all the string column such as business_code, name_customer etc. to numeric value**"
      ]
    },
    {
      "cell_type": "code",
      "metadata": {
        "colab": {
          "base_uri": "https://localhost:8080/"
        },
        "id": "fmJ2zHP0Wh1M",
        "outputId": "199629b4-7fc7-49d9-db40-49ef246ddf04"
      },
      "source": [
        "from sklearn import preprocessing\n",
        "label_encoder = preprocessing.LabelEncoder()\n",
        "df['business_code']=label_encoder.fit_transform(df['business_code'])\n",
        "df['business_code']\n"
      ],
      "execution_count": 25,
      "outputs": [
        {
          "output_type": "execute_result",
          "data": {
            "text/plain": [
              "0        1\n",
              "1        0\n",
              "2        1\n",
              "3        1\n",
              "4        1\n",
              "        ..\n",
              "49995    1\n",
              "49996    1\n",
              "49997    1\n",
              "49998    1\n",
              "49999    1\n",
              "Name: business_code, Length: 50000, dtype: int64"
            ]
          },
          "metadata": {
            "tags": []
          },
          "execution_count": 25
        }
      ]
    },
    {
      "cell_type": "code",
      "metadata": {
        "colab": {
          "base_uri": "https://localhost:8080/"
        },
        "id": "lmXlezRcYTHJ",
        "outputId": "6e04abec-cc27-4b81-a0c8-c257be8f6f6a"
      },
      "source": [
        "\n",
        "df['name_customer']=label_encoder.fit_transform(df['name_customer'])\n",
        "df['name_customer']\n"
      ],
      "execution_count": 26,
      "outputs": [
        {
          "output_type": "execute_result",
          "data": {
            "text/plain": [
              "0         253\n",
              "1        1535\n",
              "2        4069\n",
              "3        1351\n",
              "4        4068\n",
              "         ... \n",
              "49995    2170\n",
              "49996     980\n",
              "49997    4074\n",
              "49998      89\n",
              "49999     989\n",
              "Name: name_customer, Length: 50000, dtype: int64"
            ]
          },
          "metadata": {
            "tags": []
          },
          "execution_count": 26
        }
      ]
    },
    {
      "cell_type": "code",
      "metadata": {
        "colab": {
          "base_uri": "https://localhost:8080/"
        },
        "id": "XuzVdUkzYi6t",
        "outputId": "c118687a-973a-4953-deb8-93afd642d2dc"
      },
      "source": [
        "\n",
        "df['invoice_currency']=label_encoder.fit_transform(df['invoice_currency'])\n",
        "df['invoice_currency']\n"
      ],
      "execution_count": 27,
      "outputs": [
        {
          "output_type": "execute_result",
          "data": {
            "text/plain": [
              "0        1\n",
              "1        0\n",
              "2        1\n",
              "3        1\n",
              "4        1\n",
              "        ..\n",
              "49995    1\n",
              "49996    1\n",
              "49997    1\n",
              "49998    1\n",
              "49999    1\n",
              "Name: invoice_currency, Length: 50000, dtype: int64"
            ]
          },
          "metadata": {
            "tags": []
          },
          "execution_count": 27
        }
      ]
    },
    {
      "cell_type": "code",
      "metadata": {
        "colab": {
          "base_uri": "https://localhost:8080/"
        },
        "id": "vLrYaEF1dw_r",
        "outputId": "907960eb-c0c9-4def-8c01-faf89fc9bb71"
      },
      "source": [
        "\n",
        "df['document type']=label_encoder.fit_transform(df['document type'])\n",
        "df['document type']\n",
        "\n",
        "\n"
      ],
      "execution_count": 28,
      "outputs": [
        {
          "output_type": "execute_result",
          "data": {
            "text/plain": [
              "0        0\n",
              "1        0\n",
              "2        0\n",
              "3        0\n",
              "4        0\n",
              "        ..\n",
              "49995    0\n",
              "49996    0\n",
              "49997    0\n",
              "49998    0\n",
              "49999    0\n",
              "Name: document type, Length: 50000, dtype: int64"
            ]
          },
          "metadata": {
            "tags": []
          },
          "execution_count": 28
        }
      ]
    },
    {
      "cell_type": "code",
      "metadata": {
        "colab": {
          "base_uri": "https://localhost:8080/"
        },
        "id": "8_3SL6XxefhY",
        "outputId": "025aadc9-0109-44bc-8941-2844535e55c9"
      },
      "source": [
        "\n",
        "df['cust_payment_terms']=label_encoder.fit_transform(df['cust_payment_terms'])\n",
        "df['cust_payment_terms']\n",
        "\n"
      ],
      "execution_count": 29,
      "outputs": [
        {
          "output_type": "execute_result",
          "data": {
            "text/plain": [
              "0        50\n",
              "1         5\n",
              "2        36\n",
              "3        20\n",
              "4        36\n",
              "         ..\n",
              "49995    20\n",
              "49996    40\n",
              "49997    36\n",
              "49998    20\n",
              "49999    40\n",
              "Name: cust_payment_terms, Length: 50000, dtype: int64"
            ]
          },
          "metadata": {
            "tags": []
          },
          "execution_count": 29
        }
      ]
    },
    {
      "cell_type": "code",
      "metadata": {
        "colab": {
          "base_uri": "https://localhost:8080/"
        },
        "id": "pnSeGyJGlIuX",
        "outputId": "d8c7838b-de70-4181-801d-b27b7395e3cd"
      },
      "source": [
        "\n",
        "df['cust_number']=label_encoder.fit_transform(df['cust_number'])\n",
        "df['cust_number']\n",
        "\n",
        "\n"
      ],
      "execution_count": 30,
      "outputs": [
        {
          "output_type": "execute_result",
          "data": {
            "text/plain": [
              "0        1316\n",
              "1         415\n",
              "2         878\n",
              "3         637\n",
              "4         878\n",
              "         ... \n",
              "49995     992\n",
              "49996     602\n",
              "49997     878\n",
              "49998     837\n",
              "49999     567\n",
              "Name: cust_number, Length: 50000, dtype: int64"
            ]
          },
          "metadata": {
            "tags": []
          },
          "execution_count": 30
        }
      ]
    },
    {
      "cell_type": "code",
      "metadata": {
        "colab": {
          "base_uri": "https://localhost:8080/"
        },
        "id": "nVIZUIHi9er-",
        "outputId": "8235754e-4ec4-48e2-b460-4ebd7d0421e6"
      },
      "source": [
        "\n",
        "df['buisness_year']=label_encoder.fit_transform(df['buisness_year'])\n",
        "df['buisness_year']\n",
        "\n",
        "\n"
      ],
      "execution_count": 31,
      "outputs": [
        {
          "output_type": "execute_result",
          "data": {
            "text/plain": [
              "0        1\n",
              "1        0\n",
              "2        0\n",
              "3        0\n",
              "4        0\n",
              "        ..\n",
              "49995    0\n",
              "49996    1\n",
              "49997    0\n",
              "49998    0\n",
              "49999    1\n",
              "Name: buisness_year, Length: 50000, dtype: int64"
            ]
          },
          "metadata": {
            "tags": []
          },
          "execution_count": 31
        }
      ]
    },
    {
      "cell_type": "markdown",
      "metadata": {
        "id": "HNL2mhHzGJn_"
      },
      "source": [
        "**now all the required columns changes into numeric value**"
      ]
    },
    {
      "cell_type": "code",
      "metadata": {
        "colab": {
          "base_uri": "https://localhost:8080/",
          "height": 456
        },
        "id": "9wlPi5jgjAAa",
        "outputId": "ba1458e5-b46a-4857-8bd4-8f84d855e034"
      },
      "source": [
        "df"
      ],
      "execution_count": 32,
      "outputs": [
        {
          "output_type": "execute_result",
          "data": {
            "text/html": [
              "<div>\n",
              "<style scoped>\n",
              "    .dataframe tbody tr th:only-of-type {\n",
              "        vertical-align: middle;\n",
              "    }\n",
              "\n",
              "    .dataframe tbody tr th {\n",
              "        vertical-align: top;\n",
              "    }\n",
              "\n",
              "    .dataframe thead th {\n",
              "        text-align: right;\n",
              "    }\n",
              "</style>\n",
              "<table border=\"1\" class=\"dataframe\">\n",
              "  <thead>\n",
              "    <tr style=\"text-align: right;\">\n",
              "      <th></th>\n",
              "      <th>business_code</th>\n",
              "      <th>cust_number</th>\n",
              "      <th>name_customer</th>\n",
              "      <th>clear_date</th>\n",
              "      <th>buisness_year</th>\n",
              "      <th>doc_id</th>\n",
              "      <th>posting_date</th>\n",
              "      <th>document_create_date</th>\n",
              "      <th>document_create_date.1</th>\n",
              "      <th>due_in_date</th>\n",
              "      <th>invoice_currency</th>\n",
              "      <th>document type</th>\n",
              "      <th>area_business</th>\n",
              "      <th>total_open_amount</th>\n",
              "      <th>baseline_create_date</th>\n",
              "      <th>cust_payment_terms</th>\n",
              "      <th>invoice_id</th>\n",
              "      <th>isOpen</th>\n",
              "      <th>Delay</th>\n",
              "    </tr>\n",
              "  </thead>\n",
              "  <tbody>\n",
              "    <tr>\n",
              "      <th>0</th>\n",
              "      <td>1</td>\n",
              "      <td>1316</td>\n",
              "      <td>253</td>\n",
              "      <td>NaN</td>\n",
              "      <td>1</td>\n",
              "      <td>1.930700e+09</td>\n",
              "      <td>18346</td>\n",
              "      <td>18346</td>\n",
              "      <td>18346</td>\n",
              "      <td>18361</td>\n",
              "      <td>1</td>\n",
              "      <td>0</td>\n",
              "      <td>NaN</td>\n",
              "      <td>19508.61</td>\n",
              "      <td>18346</td>\n",
              "      <td>50</td>\n",
              "      <td>1.930700e+09</td>\n",
              "      <td>1</td>\n",
              "      <td>NaN</td>\n",
              "    </tr>\n",
              "    <tr>\n",
              "      <th>1</th>\n",
              "      <td>0</td>\n",
              "      <td>415</td>\n",
              "      <td>1535</td>\n",
              "      <td>18071.0</td>\n",
              "      <td>0</td>\n",
              "      <td>2.960552e+09</td>\n",
              "      <td>18055</td>\n",
              "      <td>18055</td>\n",
              "      <td>18055</td>\n",
              "      <td>18065</td>\n",
              "      <td>0</td>\n",
              "      <td>0</td>\n",
              "      <td>NaN</td>\n",
              "      <td>75259.66</td>\n",
              "      <td>18055</td>\n",
              "      <td>5</td>\n",
              "      <td>2.960552e+09</td>\n",
              "      <td>0</td>\n",
              "      <td>6.0</td>\n",
              "    </tr>\n",
              "    <tr>\n",
              "      <th>2</th>\n",
              "      <td>1</td>\n",
              "      <td>878</td>\n",
              "      <td>4069</td>\n",
              "      <td>18114.0</td>\n",
              "      <td>0</td>\n",
              "      <td>1.929659e+09</td>\n",
              "      <td>18103</td>\n",
              "      <td>18102</td>\n",
              "      <td>18103</td>\n",
              "      <td>18118</td>\n",
              "      <td>1</td>\n",
              "      <td>0</td>\n",
              "      <td>NaN</td>\n",
              "      <td>50906.31</td>\n",
              "      <td>18103</td>\n",
              "      <td>36</td>\n",
              "      <td>1.929659e+09</td>\n",
              "      <td>0</td>\n",
              "      <td>-4.0</td>\n",
              "    </tr>\n",
              "    <tr>\n",
              "      <th>3</th>\n",
              "      <td>1</td>\n",
              "      <td>637</td>\n",
              "      <td>1351</td>\n",
              "      <td>18057.0</td>\n",
              "      <td>0</td>\n",
              "      <td>1.929337e+09</td>\n",
              "      <td>18040</td>\n",
              "      <td>18033</td>\n",
              "      <td>18040</td>\n",
              "      <td>18055</td>\n",
              "      <td>1</td>\n",
              "      <td>0</td>\n",
              "      <td>NaN</td>\n",
              "      <td>2273.37</td>\n",
              "      <td>18040</td>\n",
              "      <td>20</td>\n",
              "      <td>1.929337e+09</td>\n",
              "      <td>0</td>\n",
              "      <td>2.0</td>\n",
              "    </tr>\n",
              "    <tr>\n",
              "      <th>4</th>\n",
              "      <td>1</td>\n",
              "      <td>878</td>\n",
              "      <td>4068</td>\n",
              "      <td>17931.0</td>\n",
              "      <td>0</td>\n",
              "      <td>1.928652e+09</td>\n",
              "      <td>17919</td>\n",
              "      <td>17917</td>\n",
              "      <td>17919</td>\n",
              "      <td>17934</td>\n",
              "      <td>1</td>\n",
              "      <td>0</td>\n",
              "      <td>NaN</td>\n",
              "      <td>2999.92</td>\n",
              "      <td>17919</td>\n",
              "      <td>36</td>\n",
              "      <td>1.928652e+09</td>\n",
              "      <td>0</td>\n",
              "      <td>-3.0</td>\n",
              "    </tr>\n",
              "    <tr>\n",
              "      <th>...</th>\n",
              "      <td>...</td>\n",
              "      <td>...</td>\n",
              "      <td>...</td>\n",
              "      <td>...</td>\n",
              "      <td>...</td>\n",
              "      <td>...</td>\n",
              "      <td>...</td>\n",
              "      <td>...</td>\n",
              "      <td>...</td>\n",
              "      <td>...</td>\n",
              "      <td>...</td>\n",
              "      <td>...</td>\n",
              "      <td>...</td>\n",
              "      <td>...</td>\n",
              "      <td>...</td>\n",
              "      <td>...</td>\n",
              "      <td>...</td>\n",
              "      <td>...</td>\n",
              "      <td>...</td>\n",
              "    </tr>\n",
              "    <tr>\n",
              "      <th>49995</th>\n",
              "      <td>1</td>\n",
              "      <td>992</td>\n",
              "      <td>2170</td>\n",
              "      <td>18019.0</td>\n",
              "      <td>0</td>\n",
              "      <td>1.929176e+09</td>\n",
              "      <td>18004</td>\n",
              "      <td>18005</td>\n",
              "      <td>18004</td>\n",
              "      <td>18019</td>\n",
              "      <td>1</td>\n",
              "      <td>0</td>\n",
              "      <td>NaN</td>\n",
              "      <td>104935.25</td>\n",
              "      <td>18004</td>\n",
              "      <td>20</td>\n",
              "      <td>1.929176e+09</td>\n",
              "      <td>0</td>\n",
              "      <td>0.0</td>\n",
              "    </tr>\n",
              "    <tr>\n",
              "      <th>49996</th>\n",
              "      <td>1</td>\n",
              "      <td>602</td>\n",
              "      <td>980</td>\n",
              "      <td>NaN</td>\n",
              "      <td>1</td>\n",
              "      <td>1.930813e+09</td>\n",
              "      <td>18374</td>\n",
              "      <td>18374</td>\n",
              "      <td>18374</td>\n",
              "      <td>18391</td>\n",
              "      <td>1</td>\n",
              "      <td>0</td>\n",
              "      <td>NaN</td>\n",
              "      <td>462.24</td>\n",
              "      <td>18368</td>\n",
              "      <td>40</td>\n",
              "      <td>1.930813e+09</td>\n",
              "      <td>1</td>\n",
              "      <td>NaN</td>\n",
              "    </tr>\n",
              "    <tr>\n",
              "      <th>49997</th>\n",
              "      <td>1</td>\n",
              "      <td>878</td>\n",
              "      <td>4074</td>\n",
              "      <td>18008.0</td>\n",
              "      <td>0</td>\n",
              "      <td>1.929116e+09</td>\n",
              "      <td>17997</td>\n",
              "      <td>17996</td>\n",
              "      <td>17997</td>\n",
              "      <td>18012</td>\n",
              "      <td>1</td>\n",
              "      <td>0</td>\n",
              "      <td>NaN</td>\n",
              "      <td>51229.90</td>\n",
              "      <td>17997</td>\n",
              "      <td>36</td>\n",
              "      <td>1.929116e+09</td>\n",
              "      <td>0</td>\n",
              "      <td>-4.0</td>\n",
              "    </tr>\n",
              "    <tr>\n",
              "      <th>49998</th>\n",
              "      <td>1</td>\n",
              "      <td>837</td>\n",
              "      <td>89</td>\n",
              "      <td>17977.0</td>\n",
              "      <td>0</td>\n",
              "      <td>1.928924e+09</td>\n",
              "      <td>17962</td>\n",
              "      <td>17962</td>\n",
              "      <td>17962</td>\n",
              "      <td>17977</td>\n",
              "      <td>1</td>\n",
              "      <td>0</td>\n",
              "      <td>NaN</td>\n",
              "      <td>109197.74</td>\n",
              "      <td>17962</td>\n",
              "      <td>20</td>\n",
              "      <td>1.928924e+09</td>\n",
              "      <td>0</td>\n",
              "      <td>0.0</td>\n",
              "    </tr>\n",
              "    <tr>\n",
              "      <th>49999</th>\n",
              "      <td>1</td>\n",
              "      <td>567</td>\n",
              "      <td>989</td>\n",
              "      <td>18295.0</td>\n",
              "      <td>1</td>\n",
              "      <td>1.930434e+09</td>\n",
              "      <td>18285</td>\n",
              "      <td>18285</td>\n",
              "      <td>18285</td>\n",
              "      <td>18300</td>\n",
              "      <td>1</td>\n",
              "      <td>0</td>\n",
              "      <td>NaN</td>\n",
              "      <td>858.24</td>\n",
              "      <td>18277</td>\n",
              "      <td>40</td>\n",
              "      <td>1.930434e+09</td>\n",
              "      <td>0</td>\n",
              "      <td>-5.0</td>\n",
              "    </tr>\n",
              "  </tbody>\n",
              "</table>\n",
              "<p>50000 rows × 19 columns</p>\n",
              "</div>"
            ],
            "text/plain": [
              "       business_code  cust_number  name_customer  ...    invoice_id  isOpen  Delay\n",
              "0                  1         1316            253  ...  1.930700e+09       1    NaN\n",
              "1                  0          415           1535  ...  2.960552e+09       0    6.0\n",
              "2                  1          878           4069  ...  1.929659e+09       0   -4.0\n",
              "3                  1          637           1351  ...  1.929337e+09       0    2.0\n",
              "4                  1          878           4068  ...  1.928652e+09       0   -3.0\n",
              "...              ...          ...            ...  ...           ...     ...    ...\n",
              "49995              1          992           2170  ...  1.929176e+09       0    0.0\n",
              "49996              1          602            980  ...  1.930813e+09       1    NaN\n",
              "49997              1          878           4074  ...  1.929116e+09       0   -4.0\n",
              "49998              1          837             89  ...  1.928924e+09       0    0.0\n",
              "49999              1          567            989  ...  1.930434e+09       0   -5.0\n",
              "\n",
              "[50000 rows x 19 columns]"
            ]
          },
          "metadata": {
            "tags": []
          },
          "execution_count": 32
        }
      ]
    },
    {
      "cell_type": "markdown",
      "metadata": {
        "id": "lpy_G-maHLaF"
      },
      "source": [
        "**nunique() function return Series with number of distinct observations.**"
      ]
    },
    {
      "cell_type": "code",
      "metadata": {
        "colab": {
          "base_uri": "https://localhost:8080/"
        },
        "id": "EFvAqIkab8Kd",
        "outputId": "cc6800db-eb7b-465d-db70-c6c8bdb4ec55"
      },
      "source": [
        "df.nunique()"
      ],
      "execution_count": 33,
      "outputs": [
        {
          "output_type": "execute_result",
          "data": {
            "text/plain": [
              "business_code                 6\n",
              "cust_number                1415\n",
              "name_customer              4206\n",
              "clear_date                  399\n",
              "buisness_year                 2\n",
              "doc_id                    48843\n",
              "posting_date                503\n",
              "document_create_date        506\n",
              "document_create_date.1      503\n",
              "due_in_date                 548\n",
              "invoice_currency              2\n",
              "document type                 2\n",
              "area_business                 0\n",
              "total_open_amount         44167\n",
              "baseline_create_date        503\n",
              "cust_payment_terms           71\n",
              "invoice_id                48836\n",
              "isOpen                        2\n",
              "Delay                       175\n",
              "dtype: int64"
            ]
          },
          "metadata": {
            "tags": []
          },
          "execution_count": 33
        }
      ]
    },
    {
      "cell_type": "markdown",
      "metadata": {
        "id": "hQEIYAfgHcSQ"
      },
      "source": [
        "**drop the area_business and invoice_id column**"
      ]
    },
    {
      "cell_type": "code",
      "metadata": {
        "id": "nCYwEXtTj0iW"
      },
      "source": [
        "df.drop(['area_business','invoice_id'],axis=1,inplace=True)"
      ],
      "execution_count": 34,
      "outputs": []
    },
    {
      "cell_type": "markdown",
      "metadata": {
        "id": "MWi7gNgVIPKK"
      },
      "source": [
        "**Remove the datapoints when the target value is null**"
      ]
    },
    {
      "cell_type": "code",
      "metadata": {
        "id": "oI_Gi7TQjPoj"
      },
      "source": [
        "main_train = df[df.clear_date.isnull()==False]\n",
        "\n",
        "main_test = df[df.clear_date.isnull()]"
      ],
      "execution_count": 35,
      "outputs": []
    },
    {
      "cell_type": "code",
      "metadata": {
        "colab": {
          "base_uri": "https://localhost:8080/"
        },
        "id": "zDA1tF_gjbtp",
        "outputId": "7516d5bf-999a-44da-d05f-de50464f6683"
      },
      "source": [
        "#Preprocess the data \n",
        "main_train.shape"
      ],
      "execution_count": 36,
      "outputs": [
        {
          "output_type": "execute_result",
          "data": {
            "text/plain": [
              "(40000, 17)"
            ]
          },
          "metadata": {
            "tags": []
          },
          "execution_count": 36
        }
      ]
    },
    {
      "cell_type": "code",
      "metadata": {
        "colab": {
          "base_uri": "https://localhost:8080/"
        },
        "id": "Gysa364Cjf_N",
        "outputId": "b14f898d-54a0-4285-9b20-353fd3fdc4d7"
      },
      "source": [
        "main_train.isna().sum()"
      ],
      "execution_count": 37,
      "outputs": [
        {
          "output_type": "execute_result",
          "data": {
            "text/plain": [
              "business_code             0\n",
              "cust_number               0\n",
              "name_customer             0\n",
              "clear_date                0\n",
              "buisness_year             0\n",
              "doc_id                    0\n",
              "posting_date              0\n",
              "document_create_date      0\n",
              "document_create_date.1    0\n",
              "due_in_date               0\n",
              "invoice_currency          0\n",
              "document type             0\n",
              "total_open_amount         0\n",
              "baseline_create_date      0\n",
              "cust_payment_terms        0\n",
              "isOpen                    0\n",
              "Delay                     0\n",
              "dtype: int64"
            ]
          },
          "metadata": {
            "tags": []
          },
          "execution_count": 37
        }
      ]
    },
    {
      "cell_type": "code",
      "metadata": {
        "colab": {
          "base_uri": "https://localhost:8080/"
        },
        "id": "w78FDLr4mNtt",
        "outputId": "97d177e1-f46c-4c24-c8aa-8f9f9befee97"
      },
      "source": [
        "main_train.info()"
      ],
      "execution_count": 38,
      "outputs": [
        {
          "output_type": "stream",
          "text": [
            "<class 'pandas.core.frame.DataFrame'>\n",
            "Int64Index: 40000 entries, 1 to 49999\n",
            "Data columns (total 17 columns):\n",
            " #   Column                  Non-Null Count  Dtype  \n",
            "---  ------                  --------------  -----  \n",
            " 0   business_code           40000 non-null  int64  \n",
            " 1   cust_number             40000 non-null  int64  \n",
            " 2   name_customer           40000 non-null  int64  \n",
            " 3   clear_date              40000 non-null  float64\n",
            " 4   buisness_year           40000 non-null  int64  \n",
            " 5   doc_id                  40000 non-null  float64\n",
            " 6   posting_date            40000 non-null  int64  \n",
            " 7   document_create_date    40000 non-null  int64  \n",
            " 8   document_create_date.1  40000 non-null  int64  \n",
            " 9   due_in_date             40000 non-null  int64  \n",
            " 10  invoice_currency        40000 non-null  int64  \n",
            " 11  document type           40000 non-null  int64  \n",
            " 12  total_open_amount       40000 non-null  float64\n",
            " 13  baseline_create_date    40000 non-null  int64  \n",
            " 14  cust_payment_terms      40000 non-null  int64  \n",
            " 15  isOpen                  40000 non-null  int64  \n",
            " 16  Delay                   40000 non-null  float64\n",
            "dtypes: float64(4), int64(13)\n",
            "memory usage: 5.5 MB\n"
          ],
          "name": "stdout"
        }
      ]
    },
    {
      "cell_type": "code",
      "metadata": {
        "colab": {
          "base_uri": "https://localhost:8080/"
        },
        "id": "x4wXjNGGmVaO",
        "outputId": "84f2fd58-2404-4192-b3ac-38d33152ca1d"
      },
      "source": [
        "main_train.isna().sum()"
      ],
      "execution_count": 39,
      "outputs": [
        {
          "output_type": "execute_result",
          "data": {
            "text/plain": [
              "business_code             0\n",
              "cust_number               0\n",
              "name_customer             0\n",
              "clear_date                0\n",
              "buisness_year             0\n",
              "doc_id                    0\n",
              "posting_date              0\n",
              "document_create_date      0\n",
              "document_create_date.1    0\n",
              "due_in_date               0\n",
              "invoice_currency          0\n",
              "document type             0\n",
              "total_open_amount         0\n",
              "baseline_create_date      0\n",
              "cust_payment_terms        0\n",
              "isOpen                    0\n",
              "Delay                     0\n",
              "dtype: int64"
            ]
          },
          "metadata": {
            "tags": []
          },
          "execution_count": 39
        }
      ]
    },
    {
      "cell_type": "code",
      "metadata": {
        "colab": {
          "base_uri": "https://localhost:8080/"
        },
        "id": "8IN1jW-SmxFp",
        "outputId": "55415539-6d20-42a0-ed0e-c4e5a8ff459d"
      },
      "source": [
        "for col in main_train.columns:\n",
        "    if main_train[col].nunique()<= 12:\n",
        "        print(main_train[col].value_counts())\n",
        "        print('#########################')"
      ],
      "execution_count": 40,
      "outputs": [
        {
          "output_type": "stream",
          "text": [
            "1    36218\n",
            "0     3155\n",
            "5      501\n",
            "2      117\n",
            "3        8\n",
            "4        1\n",
            "Name: business_code, dtype: int64\n",
            "#########################\n",
            "0    34706\n",
            "1     5294\n",
            "Name: buisness_year, dtype: int64\n",
            "#########################\n",
            "1    36845\n",
            "0     3155\n",
            "Name: invoice_currency, dtype: int64\n",
            "#########################\n",
            "0    39992\n",
            "1        8\n",
            "Name: document type, dtype: int64\n",
            "#########################\n",
            "0    40000\n",
            "Name: isOpen, dtype: int64\n",
            "#########################\n"
          ],
          "name": "stdout"
        }
      ]
    },
    {
      "cell_type": "markdown",
      "metadata": {
        "id": "tz5BcAoXJboq"
      },
      "source": [
        "**Split data**"
      ]
    },
    {
      "cell_type": "code",
      "metadata": {
        "id": "7EUS_IC-Aieb"
      },
      "source": [
        "# Converting the main_train into X and y so that we can pass it onto train_test_split function\n",
        "\n",
        "# X --> contains the dataframe without the target i.e clear_date\n",
        "X = main_train.drop('clear_date',axis=1)\n",
        "\n",
        "# y --> contains only the target value \n",
        "y = main_train['clear_date']"
      ],
      "execution_count": 41,
      "outputs": []
    },
    {
      "cell_type": "code",
      "metadata": {
        "id": "wEOxdWqyApIY"
      },
      "source": [
        "#splitting the data first into two part -- doing a 70:30 split i.e 30% data fed to intermediate test data set\n",
        "from sklearn.model_selection import train_test_split\n",
        "X_train,X_inter_test,y_train,y_inter_test = train_test_split(X,y,test_size=0.3,random_state=0 , shuffle = False)"
      ],
      "execution_count": 42,
      "outputs": []
    },
    {
      "cell_type": "code",
      "metadata": {
        "id": "U7ZFtE5IAxGh"
      },
      "source": [
        "X_val,X_test,y_val,y_test = train_test_split(X_inter_test,y_inter_test,test_size=0.5,random_state=0 , shuffle = False)"
      ],
      "execution_count": 43,
      "outputs": []
    },
    {
      "cell_type": "code",
      "metadata": {
        "colab": {
          "base_uri": "https://localhost:8080/"
        },
        "id": "pV5y9aDJA1BC",
        "outputId": "e5d64b36-3442-4383-bcab-a677d69265a4"
      },
      "source": [
        "X_train.shape , X_val.shape , X_test.shape"
      ],
      "execution_count": 44,
      "outputs": [
        {
          "output_type": "execute_result",
          "data": {
            "text/plain": [
              "((28000, 16), (6000, 16), (6000, 16))"
            ]
          },
          "metadata": {
            "tags": []
          },
          "execution_count": 44
        }
      ]
    },
    {
      "cell_type": "code",
      "metadata": {
        "colab": {
          "base_uri": "https://localhost:8080/",
          "height": 456
        },
        "id": "i0AhzXFRLDfe",
        "outputId": "c06f30c5-e836-4bbe-f3ab-c0b39aadaac1"
      },
      "source": [
        "X"
      ],
      "execution_count": 45,
      "outputs": [
        {
          "output_type": "execute_result",
          "data": {
            "text/html": [
              "<div>\n",
              "<style scoped>\n",
              "    .dataframe tbody tr th:only-of-type {\n",
              "        vertical-align: middle;\n",
              "    }\n",
              "\n",
              "    .dataframe tbody tr th {\n",
              "        vertical-align: top;\n",
              "    }\n",
              "\n",
              "    .dataframe thead th {\n",
              "        text-align: right;\n",
              "    }\n",
              "</style>\n",
              "<table border=\"1\" class=\"dataframe\">\n",
              "  <thead>\n",
              "    <tr style=\"text-align: right;\">\n",
              "      <th></th>\n",
              "      <th>business_code</th>\n",
              "      <th>cust_number</th>\n",
              "      <th>name_customer</th>\n",
              "      <th>buisness_year</th>\n",
              "      <th>doc_id</th>\n",
              "      <th>posting_date</th>\n",
              "      <th>document_create_date</th>\n",
              "      <th>document_create_date.1</th>\n",
              "      <th>due_in_date</th>\n",
              "      <th>invoice_currency</th>\n",
              "      <th>document type</th>\n",
              "      <th>total_open_amount</th>\n",
              "      <th>baseline_create_date</th>\n",
              "      <th>cust_payment_terms</th>\n",
              "      <th>isOpen</th>\n",
              "      <th>Delay</th>\n",
              "    </tr>\n",
              "  </thead>\n",
              "  <tbody>\n",
              "    <tr>\n",
              "      <th>1</th>\n",
              "      <td>0</td>\n",
              "      <td>415</td>\n",
              "      <td>1535</td>\n",
              "      <td>0</td>\n",
              "      <td>2.960552e+09</td>\n",
              "      <td>18055</td>\n",
              "      <td>18055</td>\n",
              "      <td>18055</td>\n",
              "      <td>18065</td>\n",
              "      <td>0</td>\n",
              "      <td>0</td>\n",
              "      <td>75259.66</td>\n",
              "      <td>18055</td>\n",
              "      <td>5</td>\n",
              "      <td>0</td>\n",
              "      <td>6.0</td>\n",
              "    </tr>\n",
              "    <tr>\n",
              "      <th>2</th>\n",
              "      <td>1</td>\n",
              "      <td>878</td>\n",
              "      <td>4069</td>\n",
              "      <td>0</td>\n",
              "      <td>1.929659e+09</td>\n",
              "      <td>18103</td>\n",
              "      <td>18102</td>\n",
              "      <td>18103</td>\n",
              "      <td>18118</td>\n",
              "      <td>1</td>\n",
              "      <td>0</td>\n",
              "      <td>50906.31</td>\n",
              "      <td>18103</td>\n",
              "      <td>36</td>\n",
              "      <td>0</td>\n",
              "      <td>-4.0</td>\n",
              "    </tr>\n",
              "    <tr>\n",
              "      <th>3</th>\n",
              "      <td>1</td>\n",
              "      <td>637</td>\n",
              "      <td>1351</td>\n",
              "      <td>0</td>\n",
              "      <td>1.929337e+09</td>\n",
              "      <td>18040</td>\n",
              "      <td>18033</td>\n",
              "      <td>18040</td>\n",
              "      <td>18055</td>\n",
              "      <td>1</td>\n",
              "      <td>0</td>\n",
              "      <td>2273.37</td>\n",
              "      <td>18040</td>\n",
              "      <td>20</td>\n",
              "      <td>0</td>\n",
              "      <td>2.0</td>\n",
              "    </tr>\n",
              "    <tr>\n",
              "      <th>4</th>\n",
              "      <td>1</td>\n",
              "      <td>878</td>\n",
              "      <td>4068</td>\n",
              "      <td>0</td>\n",
              "      <td>1.928652e+09</td>\n",
              "      <td>17919</td>\n",
              "      <td>17917</td>\n",
              "      <td>17919</td>\n",
              "      <td>17934</td>\n",
              "      <td>1</td>\n",
              "      <td>0</td>\n",
              "      <td>2999.92</td>\n",
              "      <td>17919</td>\n",
              "      <td>36</td>\n",
              "      <td>0</td>\n",
              "      <td>-3.0</td>\n",
              "    </tr>\n",
              "    <tr>\n",
              "      <th>6</th>\n",
              "      <td>1</td>\n",
              "      <td>901</td>\n",
              "      <td>1325</td>\n",
              "      <td>0</td>\n",
              "      <td>1.929831e+09</td>\n",
              "      <td>18145</td>\n",
              "      <td>18144</td>\n",
              "      <td>18145</td>\n",
              "      <td>18160</td>\n",
              "      <td>1</td>\n",
              "      <td>0</td>\n",
              "      <td>23708.88</td>\n",
              "      <td>18145</td>\n",
              "      <td>20</td>\n",
              "      <td>0</td>\n",
              "      <td>2.0</td>\n",
              "    </tr>\n",
              "    <tr>\n",
              "      <th>...</th>\n",
              "      <td>...</td>\n",
              "      <td>...</td>\n",
              "      <td>...</td>\n",
              "      <td>...</td>\n",
              "      <td>...</td>\n",
              "      <td>...</td>\n",
              "      <td>...</td>\n",
              "      <td>...</td>\n",
              "      <td>...</td>\n",
              "      <td>...</td>\n",
              "      <td>...</td>\n",
              "      <td>...</td>\n",
              "      <td>...</td>\n",
              "      <td>...</td>\n",
              "      <td>...</td>\n",
              "      <td>...</td>\n",
              "    </tr>\n",
              "    <tr>\n",
              "      <th>49994</th>\n",
              "      <td>1</td>\n",
              "      <td>1015</td>\n",
              "      <td>3618</td>\n",
              "      <td>1</td>\n",
              "      <td>1.930333e+09</td>\n",
              "      <td>18260</td>\n",
              "      <td>18260</td>\n",
              "      <td>18260</td>\n",
              "      <td>18275</td>\n",
              "      <td>1</td>\n",
              "      <td>0</td>\n",
              "      <td>763.91</td>\n",
              "      <td>18260</td>\n",
              "      <td>20</td>\n",
              "      <td>0</td>\n",
              "      <td>0.0</td>\n",
              "    </tr>\n",
              "    <tr>\n",
              "      <th>49995</th>\n",
              "      <td>1</td>\n",
              "      <td>992</td>\n",
              "      <td>2170</td>\n",
              "      <td>0</td>\n",
              "      <td>1.929176e+09</td>\n",
              "      <td>18004</td>\n",
              "      <td>18005</td>\n",
              "      <td>18004</td>\n",
              "      <td>18019</td>\n",
              "      <td>1</td>\n",
              "      <td>0</td>\n",
              "      <td>104935.25</td>\n",
              "      <td>18004</td>\n",
              "      <td>20</td>\n",
              "      <td>0</td>\n",
              "      <td>0.0</td>\n",
              "    </tr>\n",
              "    <tr>\n",
              "      <th>49997</th>\n",
              "      <td>1</td>\n",
              "      <td>878</td>\n",
              "      <td>4074</td>\n",
              "      <td>0</td>\n",
              "      <td>1.929116e+09</td>\n",
              "      <td>17997</td>\n",
              "      <td>17996</td>\n",
              "      <td>17997</td>\n",
              "      <td>18012</td>\n",
              "      <td>1</td>\n",
              "      <td>0</td>\n",
              "      <td>51229.90</td>\n",
              "      <td>17997</td>\n",
              "      <td>36</td>\n",
              "      <td>0</td>\n",
              "      <td>-4.0</td>\n",
              "    </tr>\n",
              "    <tr>\n",
              "      <th>49998</th>\n",
              "      <td>1</td>\n",
              "      <td>837</td>\n",
              "      <td>89</td>\n",
              "      <td>0</td>\n",
              "      <td>1.928924e+09</td>\n",
              "      <td>17962</td>\n",
              "      <td>17962</td>\n",
              "      <td>17962</td>\n",
              "      <td>17977</td>\n",
              "      <td>1</td>\n",
              "      <td>0</td>\n",
              "      <td>109197.74</td>\n",
              "      <td>17962</td>\n",
              "      <td>20</td>\n",
              "      <td>0</td>\n",
              "      <td>0.0</td>\n",
              "    </tr>\n",
              "    <tr>\n",
              "      <th>49999</th>\n",
              "      <td>1</td>\n",
              "      <td>567</td>\n",
              "      <td>989</td>\n",
              "      <td>1</td>\n",
              "      <td>1.930434e+09</td>\n",
              "      <td>18285</td>\n",
              "      <td>18285</td>\n",
              "      <td>18285</td>\n",
              "      <td>18300</td>\n",
              "      <td>1</td>\n",
              "      <td>0</td>\n",
              "      <td>858.24</td>\n",
              "      <td>18277</td>\n",
              "      <td>40</td>\n",
              "      <td>0</td>\n",
              "      <td>-5.0</td>\n",
              "    </tr>\n",
              "  </tbody>\n",
              "</table>\n",
              "<p>40000 rows × 16 columns</p>\n",
              "</div>"
            ],
            "text/plain": [
              "       business_code  cust_number  ...  isOpen  Delay\n",
              "1                  0          415  ...       0    6.0\n",
              "2                  1          878  ...       0   -4.0\n",
              "3                  1          637  ...       0    2.0\n",
              "4                  1          878  ...       0   -3.0\n",
              "6                  1          901  ...       0    2.0\n",
              "...              ...          ...  ...     ...    ...\n",
              "49994              1         1015  ...       0    0.0\n",
              "49995              1          992  ...       0    0.0\n",
              "49997              1          878  ...       0   -4.0\n",
              "49998              1          837  ...       0    0.0\n",
              "49999              1          567  ...       0   -5.0\n",
              "\n",
              "[40000 rows x 16 columns]"
            ]
          },
          "metadata": {
            "tags": []
          },
          "execution_count": 45
        }
      ]
    },
    {
      "cell_type": "code",
      "metadata": {
        "colab": {
          "base_uri": "https://localhost:8080/"
        },
        "id": "g3se1zA5LKqX",
        "outputId": "037e5735-9367-421d-b3f2-2637f8f9d666"
      },
      "source": [
        "y"
      ],
      "execution_count": 46,
      "outputs": [
        {
          "output_type": "execute_result",
          "data": {
            "text/plain": [
              "1        18071.0\n",
              "2        18114.0\n",
              "3        18057.0\n",
              "4        17931.0\n",
              "6        18162.0\n",
              "          ...   \n",
              "49994    18275.0\n",
              "49995    18019.0\n",
              "49997    18008.0\n",
              "49998    17977.0\n",
              "49999    18295.0\n",
              "Name: clear_date, Length: 40000, dtype: float64"
            ]
          },
          "metadata": {
            "tags": []
          },
          "execution_count": 46
        }
      ]
    },
    {
      "cell_type": "markdown",
      "metadata": {
        "id": "3ZFS1DrKJjv4"
      },
      "source": [
        "**EDA**"
      ]
    },
    {
      "cell_type": "code",
      "metadata": {
        "colab": {
          "base_uri": "https://localhost:8080/",
          "height": 298
        },
        "id": "RCbTRSHlBZMY",
        "outputId": "2be7d7da-b112-476f-dcac-f5aee1d8b165"
      },
      "source": [
        "# distribution of the target column \n",
        "# right skewed distribution\n",
        "# outliers present but not that significant , hence  \n",
        "sns.distplot(y_train)"
      ],
      "execution_count": 47,
      "outputs": [
        {
          "output_type": "execute_result",
          "data": {
            "text/plain": [
              "<matplotlib.axes._subplots.AxesSubplot at 0x7f9d7018bf90>"
            ]
          },
          "metadata": {
            "tags": []
          },
          "execution_count": 47
        },
        {
          "output_type": "display_data",
          "data": {
            "image/png": "[encoded data removed]",
            "text/plain": [
              "<Figure size 432x288 with 1 Axes>"
            ]
          },
          "metadata": {
            "tags": [],
            "needs_background": "light"
          }
        }
      ]
    },
    {
      "cell_type": "code",
      "metadata": {
        "colab": {
          "base_uri": "https://localhost:8080/",
          "height": 456
        },
        "id": "Axao2Wu3MJmg",
        "outputId": "bee0b723-a135-45c0-d3ac-bd2e1dc3f978"
      },
      "source": [
        "X_train.merge(y_train,on = X_train.index)"
      ],
      "execution_count": 48,
      "outputs": [
        {
          "output_type": "execute_result",
          "data": {
            "text/html": [
              "<div>\n",
              "<style scoped>\n",
              "    .dataframe tbody tr th:only-of-type {\n",
              "        vertical-align: middle;\n",
              "    }\n",
              "\n",
              "    .dataframe tbody tr th {\n",
              "        vertical-align: top;\n",
              "    }\n",
              "\n",
              "    .dataframe thead th {\n",
              "        text-align: right;\n",
              "    }\n",
              "</style>\n",
              "<table border=\"1\" class=\"dataframe\">\n",
              "  <thead>\n",
              "    <tr style=\"text-align: right;\">\n",
              "      <th></th>\n",
              "      <th>key_0</th>\n",
              "      <th>business_code</th>\n",
              "      <th>cust_number</th>\n",
              "      <th>name_customer</th>\n",
              "      <th>buisness_year</th>\n",
              "      <th>doc_id</th>\n",
              "      <th>posting_date</th>\n",
              "      <th>document_create_date</th>\n",
              "      <th>document_create_date.1</th>\n",
              "      <th>due_in_date</th>\n",
              "      <th>invoice_currency</th>\n",
              "      <th>document type</th>\n",
              "      <th>total_open_amount</th>\n",
              "      <th>baseline_create_date</th>\n",
              "      <th>cust_payment_terms</th>\n",
              "      <th>isOpen</th>\n",
              "      <th>Delay</th>\n",
              "      <th>clear_date</th>\n",
              "    </tr>\n",
              "  </thead>\n",
              "  <tbody>\n",
              "    <tr>\n",
              "      <th>0</th>\n",
              "      <td>1</td>\n",
              "      <td>0</td>\n",
              "      <td>415</td>\n",
              "      <td>1535</td>\n",
              "      <td>0</td>\n",
              "      <td>2.960552e+09</td>\n",
              "      <td>18055</td>\n",
              "      <td>18055</td>\n",
              "      <td>18055</td>\n",
              "      <td>18065</td>\n",
              "      <td>0</td>\n",
              "      <td>0</td>\n",
              "      <td>75259.66</td>\n",
              "      <td>18055</td>\n",
              "      <td>5</td>\n",
              "      <td>0</td>\n",
              "      <td>6.0</td>\n",
              "      <td>18071.0</td>\n",
              "    </tr>\n",
              "    <tr>\n",
              "      <th>1</th>\n",
              "      <td>2</td>\n",
              "      <td>1</td>\n",
              "      <td>878</td>\n",
              "      <td>4069</td>\n",
              "      <td>0</td>\n",
              "      <td>1.929659e+09</td>\n",
              "      <td>18103</td>\n",
              "      <td>18102</td>\n",
              "      <td>18103</td>\n",
              "      <td>18118</td>\n",
              "      <td>1</td>\n",
              "      <td>0</td>\n",
              "      <td>50906.31</td>\n",
              "      <td>18103</td>\n",
              "      <td>36</td>\n",
              "      <td>0</td>\n",
              "      <td>-4.0</td>\n",
              "      <td>18114.0</td>\n",
              "    </tr>\n",
              "    <tr>\n",
              "      <th>2</th>\n",
              "      <td>3</td>\n",
              "      <td>1</td>\n",
              "      <td>637</td>\n",
              "      <td>1351</td>\n",
              "      <td>0</td>\n",
              "      <td>1.929337e+09</td>\n",
              "      <td>18040</td>\n",
              "      <td>18033</td>\n",
              "      <td>18040</td>\n",
              "      <td>18055</td>\n",
              "      <td>1</td>\n",
              "      <td>0</td>\n",
              "      <td>2273.37</td>\n",
              "      <td>18040</td>\n",
              "      <td>20</td>\n",
              "      <td>0</td>\n",
              "      <td>2.0</td>\n",
              "      <td>18057.0</td>\n",
              "    </tr>\n",
              "    <tr>\n",
              "      <th>3</th>\n",
              "      <td>4</td>\n",
              "      <td>1</td>\n",
              "      <td>878</td>\n",
              "      <td>4068</td>\n",
              "      <td>0</td>\n",
              "      <td>1.928652e+09</td>\n",
              "      <td>17919</td>\n",
              "      <td>17917</td>\n",
              "      <td>17919</td>\n",
              "      <td>17934</td>\n",
              "      <td>1</td>\n",
              "      <td>0</td>\n",
              "      <td>2999.92</td>\n",
              "      <td>17919</td>\n",
              "      <td>36</td>\n",
              "      <td>0</td>\n",
              "      <td>-3.0</td>\n",
              "      <td>17931.0</td>\n",
              "    </tr>\n",
              "    <tr>\n",
              "      <th>4</th>\n",
              "      <td>6</td>\n",
              "      <td>1</td>\n",
              "      <td>901</td>\n",
              "      <td>1325</td>\n",
              "      <td>0</td>\n",
              "      <td>1.929831e+09</td>\n",
              "      <td>18145</td>\n",
              "      <td>18144</td>\n",
              "      <td>18145</td>\n",
              "      <td>18160</td>\n",
              "      <td>1</td>\n",
              "      <td>0</td>\n",
              "      <td>23708.88</td>\n",
              "      <td>18145</td>\n",
              "      <td>20</td>\n",
              "      <td>0</td>\n",
              "      <td>2.0</td>\n",
              "      <td>18162.0</td>\n",
              "    </tr>\n",
              "    <tr>\n",
              "      <th>...</th>\n",
              "      <td>...</td>\n",
              "      <td>...</td>\n",
              "      <td>...</td>\n",
              "      <td>...</td>\n",
              "      <td>...</td>\n",
              "      <td>...</td>\n",
              "      <td>...</td>\n",
              "      <td>...</td>\n",
              "      <td>...</td>\n",
              "      <td>...</td>\n",
              "      <td>...</td>\n",
              "      <td>...</td>\n",
              "      <td>...</td>\n",
              "      <td>...</td>\n",
              "      <td>...</td>\n",
              "      <td>...</td>\n",
              "      <td>...</td>\n",
              "      <td>...</td>\n",
              "    </tr>\n",
              "    <tr>\n",
              "      <th>27995</th>\n",
              "      <td>34952</td>\n",
              "      <td>1</td>\n",
              "      <td>11</td>\n",
              "      <td>1107</td>\n",
              "      <td>0</td>\n",
              "      <td>1.929620e+09</td>\n",
              "      <td>18092</td>\n",
              "      <td>18092</td>\n",
              "      <td>18092</td>\n",
              "      <td>18107</td>\n",
              "      <td>1</td>\n",
              "      <td>0</td>\n",
              "      <td>65958.99</td>\n",
              "      <td>18092</td>\n",
              "      <td>20</td>\n",
              "      <td>0</td>\n",
              "      <td>1.0</td>\n",
              "      <td>18108.0</td>\n",
              "    </tr>\n",
              "    <tr>\n",
              "      <th>27996</th>\n",
              "      <td>34953</td>\n",
              "      <td>1</td>\n",
              "      <td>568</td>\n",
              "      <td>3950</td>\n",
              "      <td>0</td>\n",
              "      <td>1.930185e+09</td>\n",
              "      <td>18222</td>\n",
              "      <td>18222</td>\n",
              "      <td>18222</td>\n",
              "      <td>18237</td>\n",
              "      <td>1</td>\n",
              "      <td>0</td>\n",
              "      <td>29241.04</td>\n",
              "      <td>18222</td>\n",
              "      <td>20</td>\n",
              "      <td>0</td>\n",
              "      <td>2.0</td>\n",
              "      <td>18239.0</td>\n",
              "    </tr>\n",
              "    <tr>\n",
              "      <th>27997</th>\n",
              "      <td>34956</td>\n",
              "      <td>1</td>\n",
              "      <td>878</td>\n",
              "      <td>4077</td>\n",
              "      <td>0</td>\n",
              "      <td>1.929990e+09</td>\n",
              "      <td>18177</td>\n",
              "      <td>18178</td>\n",
              "      <td>18177</td>\n",
              "      <td>18192</td>\n",
              "      <td>1</td>\n",
              "      <td>0</td>\n",
              "      <td>1414.69</td>\n",
              "      <td>18177</td>\n",
              "      <td>36</td>\n",
              "      <td>0</td>\n",
              "      <td>16.0</td>\n",
              "      <td>18208.0</td>\n",
              "    </tr>\n",
              "    <tr>\n",
              "      <th>27998</th>\n",
              "      <td>34957</td>\n",
              "      <td>1</td>\n",
              "      <td>891</td>\n",
              "      <td>2164</td>\n",
              "      <td>0</td>\n",
              "      <td>1.929828e+09</td>\n",
              "      <td>18142</td>\n",
              "      <td>18143</td>\n",
              "      <td>18142</td>\n",
              "      <td>18157</td>\n",
              "      <td>1</td>\n",
              "      <td>0</td>\n",
              "      <td>15395.25</td>\n",
              "      <td>18142</td>\n",
              "      <td>20</td>\n",
              "      <td>0</td>\n",
              "      <td>0.0</td>\n",
              "      <td>18157.0</td>\n",
              "    </tr>\n",
              "    <tr>\n",
              "      <th>27999</th>\n",
              "      <td>34958</td>\n",
              "      <td>1</td>\n",
              "      <td>862</td>\n",
              "      <td>595</td>\n",
              "      <td>0</td>\n",
              "      <td>1.928992e+09</td>\n",
              "      <td>17975</td>\n",
              "      <td>17974</td>\n",
              "      <td>17975</td>\n",
              "      <td>17990</td>\n",
              "      <td>1</td>\n",
              "      <td>0</td>\n",
              "      <td>1428.16</td>\n",
              "      <td>17975</td>\n",
              "      <td>25</td>\n",
              "      <td>0</td>\n",
              "      <td>0.0</td>\n",
              "      <td>17990.0</td>\n",
              "    </tr>\n",
              "  </tbody>\n",
              "</table>\n",
              "<p>28000 rows × 18 columns</p>\n",
              "</div>"
            ],
            "text/plain": [
              "       key_0  business_code  cust_number  ...  isOpen  Delay  clear_date\n",
              "0          1              0          415  ...       0    6.0     18071.0\n",
              "1          2              1          878  ...       0   -4.0     18114.0\n",
              "2          3              1          637  ...       0    2.0     18057.0\n",
              "3          4              1          878  ...       0   -3.0     17931.0\n",
              "4          6              1          901  ...       0    2.0     18162.0\n",
              "...      ...            ...          ...  ...     ...    ...         ...\n",
              "27995  34952              1           11  ...       0    1.0     18108.0\n",
              "27996  34953              1          568  ...       0    2.0     18239.0\n",
              "27997  34956              1          878  ...       0   16.0     18208.0\n",
              "27998  34957              1          891  ...       0    0.0     18157.0\n",
              "27999  34958              1          862  ...       0    0.0     17990.0\n",
              "\n",
              "[28000 rows x 18 columns]"
            ]
          },
          "metadata": {
            "tags": []
          },
          "execution_count": 48
        }
      ]
    },
    {
      "cell_type": "code",
      "metadata": {
        "colab": {
          "base_uri": "https://localhost:8080/",
          "height": 297
        },
        "id": "583ZSYZuMP7i",
        "outputId": "0990c585-3162-4ce4-f208-8f30f2476ff4"
      },
      "source": [
        "\n",
        "sns.scatterplot(data=X_train.merge(y_train,on = X_train.index), x=\"clear_date\", y=\"Delay\")"
      ],
      "execution_count": 49,
      "outputs": [
        {
          "output_type": "execute_result",
          "data": {
            "text/plain": [
              "<matplotlib.axes._subplots.AxesSubplot at 0x7f9d6fd74cd0>"
            ]
          },
          "metadata": {
            "tags": []
          },
          "execution_count": 49
        },
        {
          "output_type": "display_data",
          "data": {
            "image/png": "[encoded data removed]",
            "text/plain": [
              "<Figure size 432x288 with 1 Axes>"
            ]
          },
          "metadata": {
            "tags": [],
            "needs_background": "light"
          }
        }
      ]
    },
    {
      "cell_type": "code",
      "metadata": {
        "colab": {
          "base_uri": "https://localhost:8080/"
        },
        "id": "_PKhPZsYNAvP",
        "outputId": "542416cd-66a1-4cf9-d0d1-9ec0e10a8a19"
      },
      "source": [
        "X_train.Delay.nunique()"
      ],
      "execution_count": 50,
      "outputs": [
        {
          "output_type": "execute_result",
          "data": {
            "text/plain": [
              "167"
            ]
          },
          "metadata": {
            "tags": []
          },
          "execution_count": 50
        }
      ]
    },
    {
      "cell_type": "markdown",
      "metadata": {
        "id": "21q4sdZFJ3VR"
      },
      "source": [
        "**Feature selection**"
      ]
    },
    {
      "cell_type": "code",
      "metadata": {
        "colab": {
          "base_uri": "https://localhost:8080/",
          "height": 853
        },
        "id": "Mdqfh46QQdp2",
        "outputId": "f5241894-9d75-4a65-c03b-e30d77217908"
      },
      "source": [
        "import  matplotlib.pyplot as plt\n",
        "colormap = plt.cm.RdBu\n",
        "plt.figure(figsize=(14,12))\n",
        "plt.title('Pearson Correlation of Features', y=1.05, size=15)\n",
        "sns.heatmap(X_train.merge(y_train , on = X_train.index ).corr(),linewidths=0.1,vmax=1.0, \n",
        "            square=True, cmap=colormap, linecolor='white', annot=True)"
      ],
      "execution_count": 51,
      "outputs": [
        {
          "output_type": "execute_result",
          "data": {
            "text/plain": [
              "<matplotlib.axes._subplots.AxesSubplot at 0x7f9d638a6d50>"
            ]
          },
          "metadata": {
            "tags": []
          },
          "execution_count": 51
        },
        {
          "output_type": "display_data",
          "data": {
            "image/png": "[encoded data removed]",
            "text/plain": [
              "<Figure size 1008x864 with 2 Axes>"
            ]
          },
          "metadata": {
            "tags": [],
            "needs_background": "light"
          }
        }
      ]
    },
    {
      "cell_type": "code",
      "metadata": {
        "colab": {
          "base_uri": "https://localhost:8080/"
        },
        "id": "7woGEBKpEc81",
        "outputId": "aa0046e5-c88d-4a57-9570-249e90977628"
      },
      "source": [
        "X_train.info()"
      ],
      "execution_count": 52,
      "outputs": [
        {
          "output_type": "stream",
          "text": [
            "<class 'pandas.core.frame.DataFrame'>\n",
            "Int64Index: 28000 entries, 1 to 34958\n",
            "Data columns (total 16 columns):\n",
            " #   Column                  Non-Null Count  Dtype  \n",
            "---  ------                  --------------  -----  \n",
            " 0   business_code           28000 non-null  int64  \n",
            " 1   cust_number             28000 non-null  int64  \n",
            " 2   name_customer           28000 non-null  int64  \n",
            " 3   buisness_year           28000 non-null  int64  \n",
            " 4   doc_id                  28000 non-null  float64\n",
            " 5   posting_date            28000 non-null  int64  \n",
            " 6   document_create_date    28000 non-null  int64  \n",
            " 7   document_create_date.1  28000 non-null  int64  \n",
            " 8   due_in_date             28000 non-null  int64  \n",
            " 9   invoice_currency        28000 non-null  int64  \n",
            " 10  document type           28000 non-null  int64  \n",
            " 11  total_open_amount       28000 non-null  float64\n",
            " 12  baseline_create_date    28000 non-null  int64  \n",
            " 13  cust_payment_terms      28000 non-null  int64  \n",
            " 14  isOpen                  28000 non-null  int64  \n",
            " 15  Delay                   28000 non-null  float64\n",
            "dtypes: float64(3), int64(13)\n",
            "memory usage: 3.6 MB\n"
          ],
          "name": "stdout"
        }
      ]
    },
    {
      "cell_type": "code",
      "metadata": {
        "colab": {
          "base_uri": "https://localhost:8080/"
        },
        "id": "CJYo6jPEB88G",
        "outputId": "04e13d06-a56a-4ac4-f009-fc7c4eb237be"
      },
      "source": [
        "# also since all the columns have been converted to int/ float , we can use variance threshold -- ;-D\n",
        "\n",
        "from sklearn.feature_selection import VarianceThreshold\n",
        "sel = VarianceThreshold(0.8)\n",
        "sel.fit(X_train)"
      ],
      "execution_count": 53,
      "outputs": [
        {
          "output_type": "execute_result",
          "data": {
            "text/plain": [
              "VarianceThreshold(threshold=0.8)"
            ]
          },
          "metadata": {
            "tags": []
          },
          "execution_count": 53
        }
      ]
    },
    {
      "cell_type": "code",
      "metadata": {
        "colab": {
          "base_uri": "https://localhost:8080/"
        },
        "id": "w_Z6EClsCA6G",
        "outputId": "732d6625-01dc-4268-b212-de3e8c950d32"
      },
      "source": [
        "sel.variances_"
      ],
      "execution_count": 54,
      "outputs": [
        {
          "output_type": "execute_result",
          "data": {
            "text/plain": [
              "array([2.73865388e-01, 6.85142274e+04, 1.96170283e+06, 1.13891709e-01,\n",
              "       9.01720944e+16, 1.42278082e+04, 1.42314074e+04, 1.42286519e+04,\n",
              "       1.42616862e+04, 7.19461416e-02, 2.49937500e-04, 1.58643576e+09,\n",
              "       1.42351187e+04, 1.63888087e+02, 0.00000000e+00, 1.19972501e+02])"
            ]
          },
          "metadata": {
            "tags": []
          },
          "execution_count": 54
        }
      ]
    },
    {
      "cell_type": "markdown",
      "metadata": {
        "id": "0T6yM2CNKIIX"
      },
      "source": [
        "**Modelling**\n",
        "**Create a base model **"
      ]
    },
    {
      "cell_type": "code",
      "metadata": {
        "colab": {
          "base_uri": "https://localhost:8080/"
        },
        "id": "VhZVqv2-CJax",
        "outputId": "a946161e-4857-4249-98c7-a51b7923dfef"
      },
      "source": [
        "from sklearn.linear_model import LinearRegression\n",
        "base_model = LinearRegression()\n",
        "base_model.fit(X_train, y_train)"
      ],
      "execution_count": 55,
      "outputs": [
        {
          "output_type": "execute_result",
          "data": {
            "text/plain": [
              "LinearRegression(copy_X=True, fit_intercept=True, n_jobs=None, normalize=False)"
            ]
          },
          "metadata": {
            "tags": []
          },
          "execution_count": 55
        }
      ]
    },
    {
      "cell_type": "code",
      "metadata": {
        "id": "DG4lz1GNCNMU"
      },
      "source": [
        "y_predict = base_model.predict(X_val)"
      ],
      "execution_count": 56,
      "outputs": []
    },
    {
      "cell_type": "code",
      "metadata": {
        "colab": {
          "base_uri": "https://localhost:8080/"
        },
        "id": "l6LfR0p7CRRB",
        "outputId": "97b6c290-f4a0-4d3c-84a5-caa0ec3d319f"
      },
      "source": [
        "from sklearn.metrics import mean_squared_error\n",
        "\n",
        "mean_squared_error(y_val, y_predict)"
      ],
      "execution_count": 57,
      "outputs": [
        {
          "output_type": "execute_result",
          "data": {
            "text/plain": [
              "0.0"
            ]
          },
          "metadata": {
            "tags": []
          },
          "execution_count": 57
        }
      ]
    },
    {
      "cell_type": "markdown",
      "metadata": {
        "id": "n_W4dUPVKoCp"
      },
      "source": [
        "**Tree based Model**"
      ]
    },
    {
      "cell_type": "code",
      "metadata": {
        "id": "Hk_gRT-xTSV1"
      },
      "source": [
        "from sklearn.tree import DecisionTreeRegressor\n",
        "regressor = DecisionTreeRegressor(random_state=0 , max_depth=5)"
      ],
      "execution_count": 58,
      "outputs": []
    },
    {
      "cell_type": "code",
      "metadata": {
        "colab": {
          "base_uri": "https://localhost:8080/"
        },
        "id": "gmacxED6Ta4r",
        "outputId": "abdb3d6a-8e64-41b2-fbd0-c28d438209e4"
      },
      "source": [
        "regressor.fit(X_train, y_train)"
      ],
      "execution_count": 59,
      "outputs": [
        {
          "output_type": "execute_result",
          "data": {
            "text/plain": [
              "DecisionTreeRegressor(ccp_alpha=0.0, criterion='mse', max_depth=5,\n",
              "                      max_features=None, max_leaf_nodes=None,\n",
              "                      min_impurity_decrease=0.0, min_impurity_split=None,\n",
              "                      min_samples_leaf=1, min_samples_split=2,\n",
              "                      min_weight_fraction_leaf=0.0, presort='deprecated',\n",
              "                      random_state=0, splitter='best')"
            ]
          },
          "metadata": {
            "tags": []
          },
          "execution_count": 59
        }
      ]
    },
    {
      "cell_type": "code",
      "metadata": {
        "id": "0txuC-q7d5Qq"
      },
      "source": [
        "y_predict2 = regressor.predict(X_val)"
      ],
      "execution_count": 60,
      "outputs": []
    },
    {
      "cell_type": "code",
      "metadata": {
        "colab": {
          "base_uri": "https://localhost:8080/"
        },
        "id": "5Iwu7OCAeF6R",
        "outputId": "5e8e72b0-061a-42e6-f0f7-c265526e0e6b"
      },
      "source": [
        "mean_squared_error(y_val, y_predict2, squared=False)"
      ],
      "execution_count": 61,
      "outputs": [
        {
          "output_type": "execute_result",
          "data": {
            "text/plain": [
              "10.576179387435928"
            ]
          },
          "metadata": {
            "tags": []
          },
          "execution_count": 61
        }
      ]
    },
    {
      "cell_type": "code",
      "metadata": {
        "colab": {
          "base_uri": "https://localhost:8080/"
        },
        "id": "btmX9CbufBXw",
        "outputId": "771ef2ce-7d7b-4333-ac63-2871e59d2061"
      },
      "source": [
        "y_predict_test = regressor.predict(X_test)\n",
        "mean_squared_error(y_test, y_predict_test, squared=False)"
      ],
      "execution_count": 62,
      "outputs": [
        {
          "output_type": "execute_result",
          "data": {
            "text/plain": [
              "10.215061456362728"
            ]
          },
          "metadata": {
            "tags": []
          },
          "execution_count": 62
        }
      ]
    },
    {
      "cell_type": "code",
      "metadata": {
        "colab": {
          "base_uri": "https://localhost:8080/",
          "height": 456
        },
        "id": "1s90KT9bP2lh",
        "outputId": "72cbdf43-b6ff-4334-bf1d-8f50420b4664"
      },
      "source": [
        "# see again clear_date is all nan\n",
        "main_test"
      ],
      "execution_count": 63,
      "outputs": [
        {
          "output_type": "execute_result",
          "data": {
            "text/html": [
              "<div>\n",
              "<style scoped>\n",
              "    .dataframe tbody tr th:only-of-type {\n",
              "        vertical-align: middle;\n",
              "    }\n",
              "\n",
              "    .dataframe tbody tr th {\n",
              "        vertical-align: top;\n",
              "    }\n",
              "\n",
              "    .dataframe thead th {\n",
              "        text-align: right;\n",
              "    }\n",
              "</style>\n",
              "<table border=\"1\" class=\"dataframe\">\n",
              "  <thead>\n",
              "    <tr style=\"text-align: right;\">\n",
              "      <th></th>\n",
              "      <th>business_code</th>\n",
              "      <th>cust_number</th>\n",
              "      <th>name_customer</th>\n",
              "      <th>clear_date</th>\n",
              "      <th>buisness_year</th>\n",
              "      <th>doc_id</th>\n",
              "      <th>posting_date</th>\n",
              "      <th>document_create_date</th>\n",
              "      <th>document_create_date.1</th>\n",
              "      <th>due_in_date</th>\n",
              "      <th>invoice_currency</th>\n",
              "      <th>document type</th>\n",
              "      <th>total_open_amount</th>\n",
              "      <th>baseline_create_date</th>\n",
              "      <th>cust_payment_terms</th>\n",
              "      <th>isOpen</th>\n",
              "      <th>Delay</th>\n",
              "    </tr>\n",
              "  </thead>\n",
              "  <tbody>\n",
              "    <tr>\n",
              "      <th>0</th>\n",
              "      <td>1</td>\n",
              "      <td>1316</td>\n",
              "      <td>253</td>\n",
              "      <td>NaN</td>\n",
              "      <td>1</td>\n",
              "      <td>1.930700e+09</td>\n",
              "      <td>18346</td>\n",
              "      <td>18346</td>\n",
              "      <td>18346</td>\n",
              "      <td>18361</td>\n",
              "      <td>1</td>\n",
              "      <td>0</td>\n",
              "      <td>19508.61</td>\n",
              "      <td>18346</td>\n",
              "      <td>50</td>\n",
              "      <td>1</td>\n",
              "      <td>NaN</td>\n",
              "    </tr>\n",
              "    <tr>\n",
              "      <th>5</th>\n",
              "      <td>1</td>\n",
              "      <td>903</td>\n",
              "      <td>2526</td>\n",
              "      <td>NaN</td>\n",
              "      <td>1</td>\n",
              "      <td>1.930724e+09</td>\n",
              "      <td>18352</td>\n",
              "      <td>18352</td>\n",
              "      <td>18352</td>\n",
              "      <td>18367</td>\n",
              "      <td>1</td>\n",
              "      <td>0</td>\n",
              "      <td>102208.85</td>\n",
              "      <td>18352</td>\n",
              "      <td>20</td>\n",
              "      <td>1</td>\n",
              "      <td>NaN</td>\n",
              "    </tr>\n",
              "    <tr>\n",
              "      <th>25</th>\n",
              "      <td>1</td>\n",
              "      <td>773</td>\n",
              "      <td>450</td>\n",
              "      <td>NaN</td>\n",
              "      <td>1</td>\n",
              "      <td>1.930754e+09</td>\n",
              "      <td>18358</td>\n",
              "      <td>18358</td>\n",
              "      <td>18358</td>\n",
              "      <td>18373</td>\n",
              "      <td>1</td>\n",
              "      <td>0</td>\n",
              "      <td>456.55</td>\n",
              "      <td>18358</td>\n",
              "      <td>20</td>\n",
              "      <td>1</td>\n",
              "      <td>NaN</td>\n",
              "    </tr>\n",
              "    <tr>\n",
              "      <th>26</th>\n",
              "      <td>1</td>\n",
              "      <td>903</td>\n",
              "      <td>2532</td>\n",
              "      <td>NaN</td>\n",
              "      <td>1</td>\n",
              "      <td>1.930646e+09</td>\n",
              "      <td>18334</td>\n",
              "      <td>18333</td>\n",
              "      <td>18334</td>\n",
              "      <td>18349</td>\n",
              "      <td>1</td>\n",
              "      <td>0</td>\n",
              "      <td>127540.92</td>\n",
              "      <td>18334</td>\n",
              "      <td>20</td>\n",
              "      <td>1</td>\n",
              "      <td>NaN</td>\n",
              "    </tr>\n",
              "    <tr>\n",
              "      <th>28</th>\n",
              "      <td>1</td>\n",
              "      <td>735</td>\n",
              "      <td>3039</td>\n",
              "      <td>NaN</td>\n",
              "      <td>1</td>\n",
              "      <td>1.930623e+09</td>\n",
              "      <td>18329</td>\n",
              "      <td>18329</td>\n",
              "      <td>18329</td>\n",
              "      <td>18344</td>\n",
              "      <td>1</td>\n",
              "      <td>0</td>\n",
              "      <td>101312.86</td>\n",
              "      <td>18329</td>\n",
              "      <td>20</td>\n",
              "      <td>1</td>\n",
              "      <td>NaN</td>\n",
              "    </tr>\n",
              "    <tr>\n",
              "      <th>...</th>\n",
              "      <td>...</td>\n",
              "      <td>...</td>\n",
              "      <td>...</td>\n",
              "      <td>...</td>\n",
              "      <td>...</td>\n",
              "      <td>...</td>\n",
              "      <td>...</td>\n",
              "      <td>...</td>\n",
              "      <td>...</td>\n",
              "      <td>...</td>\n",
              "      <td>...</td>\n",
              "      <td>...</td>\n",
              "      <td>...</td>\n",
              "      <td>...</td>\n",
              "      <td>...</td>\n",
              "      <td>...</td>\n",
              "      <td>...</td>\n",
              "    </tr>\n",
              "    <tr>\n",
              "      <th>49963</th>\n",
              "      <td>1</td>\n",
              "      <td>878</td>\n",
              "      <td>4067</td>\n",
              "      <td>NaN</td>\n",
              "      <td>1</td>\n",
              "      <td>1.930871e+09</td>\n",
              "      <td>18390</td>\n",
              "      <td>18388</td>\n",
              "      <td>18390</td>\n",
              "      <td>18405</td>\n",
              "      <td>1</td>\n",
              "      <td>0</td>\n",
              "      <td>47568.73</td>\n",
              "      <td>18390</td>\n",
              "      <td>36</td>\n",
              "      <td>1</td>\n",
              "      <td>NaN</td>\n",
              "    </tr>\n",
              "    <tr>\n",
              "      <th>49979</th>\n",
              "      <td>1</td>\n",
              "      <td>726</td>\n",
              "      <td>1383</td>\n",
              "      <td>NaN</td>\n",
              "      <td>1</td>\n",
              "      <td>1.930692e+09</td>\n",
              "      <td>18345</td>\n",
              "      <td>18345</td>\n",
              "      <td>18345</td>\n",
              "      <td>18360</td>\n",
              "      <td>1</td>\n",
              "      <td>0</td>\n",
              "      <td>34757.57</td>\n",
              "      <td>18345</td>\n",
              "      <td>20</td>\n",
              "      <td>1</td>\n",
              "      <td>NaN</td>\n",
              "    </tr>\n",
              "    <tr>\n",
              "      <th>49981</th>\n",
              "      <td>1</td>\n",
              "      <td>855</td>\n",
              "      <td>3261</td>\n",
              "      <td>NaN</td>\n",
              "      <td>1</td>\n",
              "      <td>1.930651e+09</td>\n",
              "      <td>18336</td>\n",
              "      <td>18334</td>\n",
              "      <td>18336</td>\n",
              "      <td>18351</td>\n",
              "      <td>1</td>\n",
              "      <td>0</td>\n",
              "      <td>14307.82</td>\n",
              "      <td>18336</td>\n",
              "      <td>36</td>\n",
              "      <td>1</td>\n",
              "      <td>NaN</td>\n",
              "    </tr>\n",
              "    <tr>\n",
              "      <th>49986</th>\n",
              "      <td>1</td>\n",
              "      <td>1031</td>\n",
              "      <td>3164</td>\n",
              "      <td>NaN</td>\n",
              "      <td>1</td>\n",
              "      <td>1.930708e+09</td>\n",
              "      <td>18348</td>\n",
              "      <td>18347</td>\n",
              "      <td>18348</td>\n",
              "      <td>18363</td>\n",
              "      <td>1</td>\n",
              "      <td>0</td>\n",
              "      <td>600.08</td>\n",
              "      <td>18348</td>\n",
              "      <td>20</td>\n",
              "      <td>1</td>\n",
              "      <td>NaN</td>\n",
              "    </tr>\n",
              "    <tr>\n",
              "      <th>49996</th>\n",
              "      <td>1</td>\n",
              "      <td>602</td>\n",
              "      <td>980</td>\n",
              "      <td>NaN</td>\n",
              "      <td>1</td>\n",
              "      <td>1.930813e+09</td>\n",
              "      <td>18374</td>\n",
              "      <td>18374</td>\n",
              "      <td>18374</td>\n",
              "      <td>18391</td>\n",
              "      <td>1</td>\n",
              "      <td>0</td>\n",
              "      <td>462.24</td>\n",
              "      <td>18368</td>\n",
              "      <td>40</td>\n",
              "      <td>1</td>\n",
              "      <td>NaN</td>\n",
              "    </tr>\n",
              "  </tbody>\n",
              "</table>\n",
              "<p>10000 rows × 17 columns</p>\n",
              "</div>"
            ],
            "text/plain": [
              "       business_code  cust_number  ...  isOpen  Delay\n",
              "0                  1         1316  ...       1    NaN\n",
              "5                  1          903  ...       1    NaN\n",
              "25                 1          773  ...       1    NaN\n",
              "26                 1          903  ...       1    NaN\n",
              "28                 1          735  ...       1    NaN\n",
              "...              ...          ...  ...     ...    ...\n",
              "49963              1          878  ...       1    NaN\n",
              "49979              1          726  ...       1    NaN\n",
              "49981              1          855  ...       1    NaN\n",
              "49986              1         1031  ...       1    NaN\n",
              "49996              1          602  ...       1    NaN\n",
              "\n",
              "[10000 rows x 17 columns]"
            ]
          },
          "metadata": {
            "tags": []
          },
          "execution_count": 63
        }
      ]
    },
    {
      "cell_type": "code",
      "metadata": {
        "colab": {
          "base_uri": "https://localhost:8080/"
        },
        "id": "jX2vjWvQQ7gM",
        "outputId": "8aba9995-f734-482f-b4a5-d8f525b0ed40"
      },
      "source": [
        "main_test.isna().sum()"
      ],
      "execution_count": 64,
      "outputs": [
        {
          "output_type": "execute_result",
          "data": {
            "text/plain": [
              "business_code                 0\n",
              "cust_number                   0\n",
              "name_customer                 0\n",
              "clear_date                10000\n",
              "buisness_year                 0\n",
              "doc_id                        0\n",
              "posting_date                  0\n",
              "document_create_date          0\n",
              "document_create_date.1        0\n",
              "due_in_date                   0\n",
              "invoice_currency              0\n",
              "document type                 0\n",
              "total_open_amount             0\n",
              "baseline_create_date          0\n",
              "cust_payment_terms            0\n",
              "isOpen                        0\n",
              "Delay                     10000\n",
              "dtype: int64"
            ]
          },
          "metadata": {
            "tags": []
          },
          "execution_count": 64
        }
      ]
    },
    {
      "cell_type": "code",
      "metadata": {
        "id": "GcwvKDORRERJ"
      },
      "source": [
        "X_main_test = main_test.drop(['Delay'],axis=1)\n",
        "X_main_test\n",
        "\n",
        "# ALSO LETS DROP DELAY FROM MAIN TEST ITSELF\n",
        "main_test.drop(['Delay'], inplace =True,axis=1)\n"
      ],
      "execution_count": 65,
      "outputs": []
    },
    {
      "cell_type": "code",
      "metadata": {
        "colab": {
          "base_uri": "https://localhost:8080/"
        },
        "id": "WgudX8hnRbvM",
        "outputId": "f629e9ab-d4a4-4ac3-ec2d-f732dbdd06b8"
      },
      "source": [
        "X_main_test.info()"
      ],
      "execution_count": 66,
      "outputs": [
        {
          "output_type": "stream",
          "text": [
            "<class 'pandas.core.frame.DataFrame'>\n",
            "Int64Index: 10000 entries, 0 to 49996\n",
            "Data columns (total 16 columns):\n",
            " #   Column                  Non-Null Count  Dtype  \n",
            "---  ------                  --------------  -----  \n",
            " 0   business_code           10000 non-null  int64  \n",
            " 1   cust_number             10000 non-null  int64  \n",
            " 2   name_customer           10000 non-null  int64  \n",
            " 3   clear_date              0 non-null      float64\n",
            " 4   buisness_year           10000 non-null  int64  \n",
            " 5   doc_id                  10000 non-null  float64\n",
            " 6   posting_date            10000 non-null  int64  \n",
            " 7   document_create_date    10000 non-null  int64  \n",
            " 8   document_create_date.1  10000 non-null  int64  \n",
            " 9   due_in_date             10000 non-null  int64  \n",
            " 10  invoice_currency        10000 non-null  int64  \n",
            " 11  document type           10000 non-null  int64  \n",
            " 12  total_open_amount       10000 non-null  float64\n",
            " 13  baseline_create_date    10000 non-null  int64  \n",
            " 14  cust_payment_terms      10000 non-null  int64  \n",
            " 15  isOpen                  10000 non-null  int64  \n",
            "dtypes: float64(3), int64(13)\n",
            "memory usage: 1.3 MB\n"
          ],
          "name": "stdout"
        }
      ]
    },
    {
      "cell_type": "code",
      "metadata": {
        "colab": {
          "base_uri": "https://localhost:8080/"
        },
        "id": "qqJvGtIvS72h",
        "outputId": "3ce50801-90fc-48cd-b5df-fcce35c55335"
      },
      "source": [
        "X_main_test.columns"
      ],
      "execution_count": 67,
      "outputs": [
        {
          "output_type": "execute_result",
          "data": {
            "text/plain": [
              "Index(['business_code', 'cust_number', 'name_customer', 'clear_date',\n",
              "       'buisness_year', 'doc_id', 'posting_date', 'document_create_date',\n",
              "       'document_create_date.1', 'due_in_date', 'invoice_currency',\n",
              "       'document type', 'total_open_amount', 'baseline_create_date',\n",
              "       'cust_payment_terms', 'isOpen'],\n",
              "      dtype='object')"
            ]
          },
          "metadata": {
            "tags": []
          },
          "execution_count": 67
        }
      ]
    },
    {
      "cell_type": "code",
      "metadata": {
        "colab": {
          "base_uri": "https://localhost:8080/"
        },
        "id": "0mdeWNp8TBEG",
        "outputId": "b2553cc4-4a97-429f-8b98-42d0d3195eff"
      },
      "source": [
        "X_train.columns"
      ],
      "execution_count": 68,
      "outputs": [
        {
          "output_type": "execute_result",
          "data": {
            "text/plain": [
              "Index(['business_code', 'cust_number', 'name_customer', 'buisness_year',\n",
              "       'doc_id', 'posting_date', 'document_create_date',\n",
              "       'document_create_date.1', 'due_in_date', 'invoice_currency',\n",
              "       'document type', 'total_open_amount', 'baseline_create_date',\n",
              "       'cust_payment_terms', 'isOpen', 'Delay'],\n",
              "      dtype='object')"
            ]
          },
          "metadata": {
            "tags": []
          },
          "execution_count": 68
        }
      ]
    },
    {
      "cell_type": "code",
      "metadata": {
        "id": "IWHPQou0dYeY"
      },
      "source": [
        "X_main_test.fillna(df.mean(), inplace=True)"
      ],
      "execution_count": 69,
      "outputs": []
    },
    {
      "cell_type": "code",
      "metadata": {
        "id": "KFliJNvBiY-W"
      },
      "source": [
        "final_result = regressor.predict(X_main_test)"
      ],
      "execution_count": 70,
      "outputs": []
    },
    {
      "cell_type": "code",
      "metadata": {
        "id": "nffL4fD8irif"
      },
      "source": [
        "final_result = pd.Series(final_result,name='Delay')"
      ],
      "execution_count": 71,
      "outputs": []
    },
    {
      "cell_type": "code",
      "metadata": {
        "id": "1x5ZxCCkizUH"
      },
      "source": [
        "# resetting the index of main test so that we can merge Delay series with it\n",
        "main_test.reset_index(drop='clear_date',inplace=True)"
      ],
      "execution_count": 72,
      "outputs": []
    },
    {
      "cell_type": "code",
      "metadata": {
        "colab": {
          "base_uri": "https://localhost:8080/",
          "height": 456
        },
        "id": "PZbJTVqki3UV",
        "outputId": "1dad54e2-093c-40f6-b046-0082ddb36a53"
      },
      "source": [
        "Final = main_test.merge(final_result , on = X_main_test.index )\n",
        "Final.drop(['clear_date','posting_date','document_create_date','document_create_date.1'],axis=1,inplace=True)\n",
        "Final"
      ],
      "execution_count": 73,
      "outputs": [
        {
          "output_type": "execute_result",
          "data": {
            "text/html": [
              "<div>\n",
              "<style scoped>\n",
              "    .dataframe tbody tr th:only-of-type {\n",
              "        vertical-align: middle;\n",
              "    }\n",
              "\n",
              "    .dataframe tbody tr th {\n",
              "        vertical-align: top;\n",
              "    }\n",
              "\n",
              "    .dataframe thead th {\n",
              "        text-align: right;\n",
              "    }\n",
              "</style>\n",
              "<table border=\"1\" class=\"dataframe\">\n",
              "  <thead>\n",
              "    <tr style=\"text-align: right;\">\n",
              "      <th></th>\n",
              "      <th>key_0</th>\n",
              "      <th>business_code</th>\n",
              "      <th>cust_number</th>\n",
              "      <th>name_customer</th>\n",
              "      <th>buisness_year</th>\n",
              "      <th>doc_id</th>\n",
              "      <th>due_in_date</th>\n",
              "      <th>invoice_currency</th>\n",
              "      <th>document type</th>\n",
              "      <th>total_open_amount</th>\n",
              "      <th>baseline_create_date</th>\n",
              "      <th>cust_payment_terms</th>\n",
              "      <th>isOpen</th>\n",
              "      <th>Delay</th>\n",
              "    </tr>\n",
              "  </thead>\n",
              "  <tbody>\n",
              "    <tr>\n",
              "      <th>0</th>\n",
              "      <td>0</td>\n",
              "      <td>1</td>\n",
              "      <td>1316</td>\n",
              "      <td>253</td>\n",
              "      <td>1</td>\n",
              "      <td>1.930700e+09</td>\n",
              "      <td>18361</td>\n",
              "      <td>1</td>\n",
              "      <td>0</td>\n",
              "      <td>19508.61</td>\n",
              "      <td>18346</td>\n",
              "      <td>50</td>\n",
              "      <td>1</td>\n",
              "      <td>18349.970297</td>\n",
              "    </tr>\n",
              "    <tr>\n",
              "      <th>1</th>\n",
              "      <td>5</td>\n",
              "      <td>1</td>\n",
              "      <td>903</td>\n",
              "      <td>2526</td>\n",
              "      <td>1</td>\n",
              "      <td>1.930724e+09</td>\n",
              "      <td>18367</td>\n",
              "      <td>1</td>\n",
              "      <td>0</td>\n",
              "      <td>102208.85</td>\n",
              "      <td>18352</td>\n",
              "      <td>20</td>\n",
              "      <td>1</td>\n",
              "      <td>18349.970297</td>\n",
              "    </tr>\n",
              "    <tr>\n",
              "      <th>2</th>\n",
              "      <td>25</td>\n",
              "      <td>1</td>\n",
              "      <td>773</td>\n",
              "      <td>450</td>\n",
              "      <td>1</td>\n",
              "      <td>1.930754e+09</td>\n",
              "      <td>18373</td>\n",
              "      <td>1</td>\n",
              "      <td>0</td>\n",
              "      <td>456.55</td>\n",
              "      <td>18358</td>\n",
              "      <td>20</td>\n",
              "      <td>1</td>\n",
              "      <td>18248.203150</td>\n",
              "    </tr>\n",
              "    <tr>\n",
              "      <th>3</th>\n",
              "      <td>26</td>\n",
              "      <td>1</td>\n",
              "      <td>903</td>\n",
              "      <td>2532</td>\n",
              "      <td>1</td>\n",
              "      <td>1.930646e+09</td>\n",
              "      <td>18349</td>\n",
              "      <td>1</td>\n",
              "      <td>0</td>\n",
              "      <td>127540.92</td>\n",
              "      <td>18334</td>\n",
              "      <td>20</td>\n",
              "      <td>1</td>\n",
              "      <td>18349.970297</td>\n",
              "    </tr>\n",
              "    <tr>\n",
              "      <th>4</th>\n",
              "      <td>28</td>\n",
              "      <td>1</td>\n",
              "      <td>735</td>\n",
              "      <td>3039</td>\n",
              "      <td>1</td>\n",
              "      <td>1.930623e+09</td>\n",
              "      <td>18344</td>\n",
              "      <td>1</td>\n",
              "      <td>0</td>\n",
              "      <td>101312.86</td>\n",
              "      <td>18329</td>\n",
              "      <td>20</td>\n",
              "      <td>1</td>\n",
              "      <td>18322.117014</td>\n",
              "    </tr>\n",
              "    <tr>\n",
              "      <th>...</th>\n",
              "      <td>...</td>\n",
              "      <td>...</td>\n",
              "      <td>...</td>\n",
              "      <td>...</td>\n",
              "      <td>...</td>\n",
              "      <td>...</td>\n",
              "      <td>...</td>\n",
              "      <td>...</td>\n",
              "      <td>...</td>\n",
              "      <td>...</td>\n",
              "      <td>...</td>\n",
              "      <td>...</td>\n",
              "      <td>...</td>\n",
              "      <td>...</td>\n",
              "    </tr>\n",
              "    <tr>\n",
              "      <th>9995</th>\n",
              "      <td>49963</td>\n",
              "      <td>1</td>\n",
              "      <td>878</td>\n",
              "      <td>4067</td>\n",
              "      <td>1</td>\n",
              "      <td>1.930871e+09</td>\n",
              "      <td>18405</td>\n",
              "      <td>1</td>\n",
              "      <td>0</td>\n",
              "      <td>47568.73</td>\n",
              "      <td>18390</td>\n",
              "      <td>36</td>\n",
              "      <td>1</td>\n",
              "      <td>18349.970297</td>\n",
              "    </tr>\n",
              "    <tr>\n",
              "      <th>9996</th>\n",
              "      <td>49979</td>\n",
              "      <td>1</td>\n",
              "      <td>726</td>\n",
              "      <td>1383</td>\n",
              "      <td>1</td>\n",
              "      <td>1.930692e+09</td>\n",
              "      <td>18360</td>\n",
              "      <td>1</td>\n",
              "      <td>0</td>\n",
              "      <td>34757.57</td>\n",
              "      <td>18345</td>\n",
              "      <td>20</td>\n",
              "      <td>1</td>\n",
              "      <td>18349.970297</td>\n",
              "    </tr>\n",
              "    <tr>\n",
              "      <th>9997</th>\n",
              "      <td>49981</td>\n",
              "      <td>1</td>\n",
              "      <td>855</td>\n",
              "      <td>3261</td>\n",
              "      <td>1</td>\n",
              "      <td>1.930651e+09</td>\n",
              "      <td>18351</td>\n",
              "      <td>1</td>\n",
              "      <td>0</td>\n",
              "      <td>14307.82</td>\n",
              "      <td>18336</td>\n",
              "      <td>36</td>\n",
              "      <td>1</td>\n",
              "      <td>18248.203150</td>\n",
              "    </tr>\n",
              "    <tr>\n",
              "      <th>9998</th>\n",
              "      <td>49986</td>\n",
              "      <td>1</td>\n",
              "      <td>1031</td>\n",
              "      <td>3164</td>\n",
              "      <td>1</td>\n",
              "      <td>1.930708e+09</td>\n",
              "      <td>18363</td>\n",
              "      <td>1</td>\n",
              "      <td>0</td>\n",
              "      <td>600.08</td>\n",
              "      <td>18348</td>\n",
              "      <td>20</td>\n",
              "      <td>1</td>\n",
              "      <td>18248.203150</td>\n",
              "    </tr>\n",
              "    <tr>\n",
              "      <th>9999</th>\n",
              "      <td>49996</td>\n",
              "      <td>1</td>\n",
              "      <td>602</td>\n",
              "      <td>980</td>\n",
              "      <td>1</td>\n",
              "      <td>1.930813e+09</td>\n",
              "      <td>18391</td>\n",
              "      <td>1</td>\n",
              "      <td>0</td>\n",
              "      <td>462.24</td>\n",
              "      <td>18368</td>\n",
              "      <td>40</td>\n",
              "      <td>1</td>\n",
              "      <td>18248.203150</td>\n",
              "    </tr>\n",
              "  </tbody>\n",
              "</table>\n",
              "<p>10000 rows × 14 columns</p>\n",
              "</div>"
            ],
            "text/plain": [
              "      key_0  business_code  ...  isOpen         Delay\n",
              "0         0              1  ...       1  18349.970297\n",
              "1         5              1  ...       1  18349.970297\n",
              "2        25              1  ...       1  18248.203150\n",
              "3        26              1  ...       1  18349.970297\n",
              "4        28              1  ...       1  18322.117014\n",
              "...     ...            ...  ...     ...           ...\n",
              "9995  49963              1  ...       1  18349.970297\n",
              "9996  49979              1  ...       1  18349.970297\n",
              "9997  49981              1  ...       1  18248.203150\n",
              "9998  49986              1  ...       1  18248.203150\n",
              "9999  49996              1  ...       1  18248.203150\n",
              "\n",
              "[10000 rows x 14 columns]"
            ]
          },
          "metadata": {
            "tags": []
          },
          "execution_count": 73
        }
      ]
    },
    {
      "cell_type": "code",
      "metadata": {
        "id": "PawcOqGhQQaw"
      },
      "source": [
        "Final['Predicted_Payment_days']=Final['due_in_date']+Final['Delay']"
      ],
      "execution_count": 74,
      "outputs": []
    },
    {
      "cell_type": "code",
      "metadata": {
        "colab": {
          "base_uri": "https://localhost:8080/",
          "height": 456
        },
        "id": "D8k0Hg6tQon0",
        "outputId": "0064ee2d-92fc-4371-ba12-ae42eb130827"
      },
      "source": [
        "Final"
      ],
      "execution_count": 75,
      "outputs": [
        {
          "output_type": "execute_result",
          "data": {
            "text/html": [
              "<div>\n",
              "<style scoped>\n",
              "    .dataframe tbody tr th:only-of-type {\n",
              "        vertical-align: middle;\n",
              "    }\n",
              "\n",
              "    .dataframe tbody tr th {\n",
              "        vertical-align: top;\n",
              "    }\n",
              "\n",
              "    .dataframe thead th {\n",
              "        text-align: right;\n",
              "    }\n",
              "</style>\n",
              "<table border=\"1\" class=\"dataframe\">\n",
              "  <thead>\n",
              "    <tr style=\"text-align: right;\">\n",
              "      <th></th>\n",
              "      <th>key_0</th>\n",
              "      <th>business_code</th>\n",
              "      <th>cust_number</th>\n",
              "      <th>name_customer</th>\n",
              "      <th>buisness_year</th>\n",
              "      <th>doc_id</th>\n",
              "      <th>due_in_date</th>\n",
              "      <th>invoice_currency</th>\n",
              "      <th>document type</th>\n",
              "      <th>total_open_amount</th>\n",
              "      <th>baseline_create_date</th>\n",
              "      <th>cust_payment_terms</th>\n",
              "      <th>isOpen</th>\n",
              "      <th>Delay</th>\n",
              "      <th>Predicted_Payment_days</th>\n",
              "    </tr>\n",
              "  </thead>\n",
              "  <tbody>\n",
              "    <tr>\n",
              "      <th>0</th>\n",
              "      <td>0</td>\n",
              "      <td>1</td>\n",
              "      <td>1316</td>\n",
              "      <td>253</td>\n",
              "      <td>1</td>\n",
              "      <td>1.930700e+09</td>\n",
              "      <td>18361</td>\n",
              "      <td>1</td>\n",
              "      <td>0</td>\n",
              "      <td>19508.61</td>\n",
              "      <td>18346</td>\n",
              "      <td>50</td>\n",
              "      <td>1</td>\n",
              "      <td>18349.970297</td>\n",
              "      <td>36710.970297</td>\n",
              "    </tr>\n",
              "    <tr>\n",
              "      <th>1</th>\n",
              "      <td>5</td>\n",
              "      <td>1</td>\n",
              "      <td>903</td>\n",
              "      <td>2526</td>\n",
              "      <td>1</td>\n",
              "      <td>1.930724e+09</td>\n",
              "      <td>18367</td>\n",
              "      <td>1</td>\n",
              "      <td>0</td>\n",
              "      <td>102208.85</td>\n",
              "      <td>18352</td>\n",
              "      <td>20</td>\n",
              "      <td>1</td>\n",
              "      <td>18349.970297</td>\n",
              "      <td>36716.970297</td>\n",
              "    </tr>\n",
              "    <tr>\n",
              "      <th>2</th>\n",
              "      <td>25</td>\n",
              "      <td>1</td>\n",
              "      <td>773</td>\n",
              "      <td>450</td>\n",
              "      <td>1</td>\n",
              "      <td>1.930754e+09</td>\n",
              "      <td>18373</td>\n",
              "      <td>1</td>\n",
              "      <td>0</td>\n",
              "      <td>456.55</td>\n",
              "      <td>18358</td>\n",
              "      <td>20</td>\n",
              "      <td>1</td>\n",
              "      <td>18248.203150</td>\n",
              "      <td>36621.203150</td>\n",
              "    </tr>\n",
              "    <tr>\n",
              "      <th>3</th>\n",
              "      <td>26</td>\n",
              "      <td>1</td>\n",
              "      <td>903</td>\n",
              "      <td>2532</td>\n",
              "      <td>1</td>\n",
              "      <td>1.930646e+09</td>\n",
              "      <td>18349</td>\n",
              "      <td>1</td>\n",
              "      <td>0</td>\n",
              "      <td>127540.92</td>\n",
              "      <td>18334</td>\n",
              "      <td>20</td>\n",
              "      <td>1</td>\n",
              "      <td>18349.970297</td>\n",
              "      <td>36698.970297</td>\n",
              "    </tr>\n",
              "    <tr>\n",
              "      <th>4</th>\n",
              "      <td>28</td>\n",
              "      <td>1</td>\n",
              "      <td>735</td>\n",
              "      <td>3039</td>\n",
              "      <td>1</td>\n",
              "      <td>1.930623e+09</td>\n",
              "      <td>18344</td>\n",
              "      <td>1</td>\n",
              "      <td>0</td>\n",
              "      <td>101312.86</td>\n",
              "      <td>18329</td>\n",
              "      <td>20</td>\n",
              "      <td>1</td>\n",
              "      <td>18322.117014</td>\n",
              "      <td>36666.117014</td>\n",
              "    </tr>\n",
              "    <tr>\n",
              "      <th>...</th>\n",
              "      <td>...</td>\n",
              "      <td>...</td>\n",
              "      <td>...</td>\n",
              "      <td>...</td>\n",
              "      <td>...</td>\n",
              "      <td>...</td>\n",
              "      <td>...</td>\n",
              "      <td>...</td>\n",
              "      <td>...</td>\n",
              "      <td>...</td>\n",
              "      <td>...</td>\n",
              "      <td>...</td>\n",
              "      <td>...</td>\n",
              "      <td>...</td>\n",
              "      <td>...</td>\n",
              "    </tr>\n",
              "    <tr>\n",
              "      <th>9995</th>\n",
              "      <td>49963</td>\n",
              "      <td>1</td>\n",
              "      <td>878</td>\n",
              "      <td>4067</td>\n",
              "      <td>1</td>\n",
              "      <td>1.930871e+09</td>\n",
              "      <td>18405</td>\n",
              "      <td>1</td>\n",
              "      <td>0</td>\n",
              "      <td>47568.73</td>\n",
              "      <td>18390</td>\n",
              "      <td>36</td>\n",
              "      <td>1</td>\n",
              "      <td>18349.970297</td>\n",
              "      <td>36754.970297</td>\n",
              "    </tr>\n",
              "    <tr>\n",
              "      <th>9996</th>\n",
              "      <td>49979</td>\n",
              "      <td>1</td>\n",
              "      <td>726</td>\n",
              "      <td>1383</td>\n",
              "      <td>1</td>\n",
              "      <td>1.930692e+09</td>\n",
              "      <td>18360</td>\n",
              "      <td>1</td>\n",
              "      <td>0</td>\n",
              "      <td>34757.57</td>\n",
              "      <td>18345</td>\n",
              "      <td>20</td>\n",
              "      <td>1</td>\n",
              "      <td>18349.970297</td>\n",
              "      <td>36709.970297</td>\n",
              "    </tr>\n",
              "    <tr>\n",
              "      <th>9997</th>\n",
              "      <td>49981</td>\n",
              "      <td>1</td>\n",
              "      <td>855</td>\n",
              "      <td>3261</td>\n",
              "      <td>1</td>\n",
              "      <td>1.930651e+09</td>\n",
              "      <td>18351</td>\n",
              "      <td>1</td>\n",
              "      <td>0</td>\n",
              "      <td>14307.82</td>\n",
              "      <td>18336</td>\n",
              "      <td>36</td>\n",
              "      <td>1</td>\n",
              "      <td>18248.203150</td>\n",
              "      <td>36599.203150</td>\n",
              "    </tr>\n",
              "    <tr>\n",
              "      <th>9998</th>\n",
              "      <td>49986</td>\n",
              "      <td>1</td>\n",
              "      <td>1031</td>\n",
              "      <td>3164</td>\n",
              "      <td>1</td>\n",
              "      <td>1.930708e+09</td>\n",
              "      <td>18363</td>\n",
              "      <td>1</td>\n",
              "      <td>0</td>\n",
              "      <td>600.08</td>\n",
              "      <td>18348</td>\n",
              "      <td>20</td>\n",
              "      <td>1</td>\n",
              "      <td>18248.203150</td>\n",
              "      <td>36611.203150</td>\n",
              "    </tr>\n",
              "    <tr>\n",
              "      <th>9999</th>\n",
              "      <td>49996</td>\n",
              "      <td>1</td>\n",
              "      <td>602</td>\n",
              "      <td>980</td>\n",
              "      <td>1</td>\n",
              "      <td>1.930813e+09</td>\n",
              "      <td>18391</td>\n",
              "      <td>1</td>\n",
              "      <td>0</td>\n",
              "      <td>462.24</td>\n",
              "      <td>18368</td>\n",
              "      <td>40</td>\n",
              "      <td>1</td>\n",
              "      <td>18248.203150</td>\n",
              "      <td>36639.203150</td>\n",
              "    </tr>\n",
              "  </tbody>\n",
              "</table>\n",
              "<p>10000 rows × 15 columns</p>\n",
              "</div>"
            ],
            "text/plain": [
              "      key_0  business_code  ...         Delay  Predicted_Payment_days\n",
              "0         0              1  ...  18349.970297            36710.970297\n",
              "1         5              1  ...  18349.970297            36716.970297\n",
              "2        25              1  ...  18248.203150            36621.203150\n",
              "3        26              1  ...  18349.970297            36698.970297\n",
              "4        28              1  ...  18322.117014            36666.117014\n",
              "...     ...            ...  ...           ...                     ...\n",
              "9995  49963              1  ...  18349.970297            36754.970297\n",
              "9996  49979              1  ...  18349.970297            36709.970297\n",
              "9997  49981              1  ...  18248.203150            36599.203150\n",
              "9998  49986              1  ...  18248.203150            36611.203150\n",
              "9999  49996              1  ...  18248.203150            36639.203150\n",
              "\n",
              "[10000 rows x 15 columns]"
            ]
          },
          "metadata": {
            "tags": []
          },
          "execution_count": 75
        }
      ]
    }
  ]
}